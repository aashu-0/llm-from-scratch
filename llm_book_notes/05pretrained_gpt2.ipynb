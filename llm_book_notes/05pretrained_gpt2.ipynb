{
  "nbformat": 4,
  "nbformat_minor": 0,
  "metadata": {
    "colab": {
      "provenance": [],
      "gpuType": "T4",
      "authorship_tag": "ABX9TyPGwx18HL7e8WL0wkpsPJT1",
      "include_colab_link": true
    },
    "kernelspec": {
      "name": "python3",
      "display_name": "Python 3"
    },
    "language_info": {
      "name": "python"
    },
    "accelerator": "GPU"
  },
  "cells": [
    {
      "cell_type": "markdown",
      "metadata": {
        "id": "view-in-github",
        "colab_type": "text"
      },
      "source": [
        "<a href=\"https://colab.research.google.com/github/aashu-0/llm-from-scratch/blob/main/05pretrained_gpt2.ipynb\" target=\"_parent\"><img src=\"https://colab.research.google.com/assets/colab-badge.svg\" alt=\"Open In Colab\"/></a>"
      ]
    },
    {
      "cell_type": "code",
      "source": [
        "!pip install tensorflow>=2.15.0  tqdm>=4.66\n",
        "!pip install tiktoken"
      ],
      "metadata": {
        "colab": {
          "base_uri": "https://localhost:8080/"
        },
        "id": "uOMXOBsndgWZ",
        "outputId": "eb6011d6-f99b-4881-cb2f-449f8ee741a1"
      },
      "execution_count": 1,
      "outputs": [
        {
          "output_type": "stream",
          "name": "stdout",
          "text": [
            "Collecting tiktoken\n",
            "  Downloading tiktoken-0.9.0-cp311-cp311-manylinux_2_17_x86_64.manylinux2014_x86_64.whl.metadata (6.7 kB)\n",
            "Requirement already satisfied: regex>=2022.1.18 in /usr/local/lib/python3.11/dist-packages (from tiktoken) (2024.11.6)\n",
            "Requirement already satisfied: requests>=2.26.0 in /usr/local/lib/python3.11/dist-packages (from tiktoken) (2.32.3)\n",
            "Requirement already satisfied: charset-normalizer<4,>=2 in /usr/local/lib/python3.11/dist-packages (from requests>=2.26.0->tiktoken) (3.4.1)\n",
            "Requirement already satisfied: idna<4,>=2.5 in /usr/local/lib/python3.11/dist-packages (from requests>=2.26.0->tiktoken) (3.10)\n",
            "Requirement already satisfied: urllib3<3,>=1.21.1 in /usr/local/lib/python3.11/dist-packages (from requests>=2.26.0->tiktoken) (2.3.0)\n",
            "Requirement already satisfied: certifi>=2017.4.17 in /usr/local/lib/python3.11/dist-packages (from requests>=2.26.0->tiktoken) (2025.1.31)\n",
            "Downloading tiktoken-0.9.0-cp311-cp311-manylinux_2_17_x86_64.manylinux2014_x86_64.whl (1.2 MB)\n",
            "\u001b[2K   \u001b[90m━━━━━━━━━━━━━━━━━━━━━━━━━━━━━━━━━━━━━━━━\u001b[0m \u001b[32m1.2/1.2 MB\u001b[0m \u001b[31m17.0 MB/s\u001b[0m eta \u001b[36m0:00:00\u001b[0m\n",
            "\u001b[?25hInstalling collected packages: tiktoken\n",
            "Successfully installed tiktoken-0.9.0\n"
          ]
        }
      ]
    },
    {
      "cell_type": "code",
      "source": [
        "# getting scripts from github\n",
        "!git clone https://github.com/aashu-0/llm-from-scratch.git\n",
        "%cd llm-from-scratch/llm_book_notes"
      ],
      "metadata": {
        "colab": {
          "base_uri": "https://localhost:8080/"
        },
        "id": "z2-6XQ67Ntqv",
        "outputId": "91ec7bdc-c19a-45b9-bb52-aa315eb47600"
      },
      "execution_count": 2,
      "outputs": [
        {
          "output_type": "stream",
          "name": "stdout",
          "text": [
            "Cloning into 'llm-from-scratch'...\n",
            "remote: Enumerating objects: 101, done.\u001b[K\n",
            "remote: Counting objects: 100% (101/101), done.\u001b[K\n",
            "remote: Compressing objects: 100% (68/68), done.\u001b[K\n",
            "remote: Total 101 (delta 54), reused 70 (delta 29), pack-reused 0 (from 0)\u001b[K\n",
            "Receiving objects: 100% (101/101), 138.44 KiB | 6.02 MiB/s, done.\n",
            "Resolving deltas: 100% (54/54), done.\n",
            "/content/llm-from-scratch/llm_book_notes\n"
          ]
        }
      ]
    },
    {
      "cell_type": "code",
      "source": [
        "import sys\n",
        "sys.path.append('/content/llm-from-scratch/llm_book_notes')"
      ],
      "metadata": {
        "id": "BYbGPzjMN0Ik"
      },
      "execution_count": 3,
      "outputs": []
    },
    {
      "cell_type": "markdown",
      "source": [
        "downloading `gpt_download.py` from github"
      ],
      "metadata": {
        "id": "OY9L87-ZlNf2"
      }
    },
    {
      "cell_type": "code",
      "source": [
        "import urllib.request\n",
        "url = (\n",
        "    \"https://raw.githubusercontent.com/rasbt/\"\n",
        "    \"LLMs-from-scratch/main/ch05/\"\n",
        "    \"01_main-chapter-code/gpt_download.py\"\n",
        ")\n",
        "urllib.request.urlretrieve(url, \"gpt_download.py\")"
      ],
      "metadata": {
        "colab": {
          "base_uri": "https://localhost:8080/"
        },
        "id": "RTfPTezgdckK",
        "outputId": "8ebfef1f-e711-4d9d-8f62-36e8e8a8d8bf"
      },
      "execution_count": 4,
      "outputs": [
        {
          "output_type": "execute_result",
          "data": {
            "text/plain": [
              "('gpt_download.py', <http.client.HTTPMessage at 0x7d85c9bee690>)"
            ]
          },
          "metadata": {},
          "execution_count": 4
        }
      ]
    },
    {
      "cell_type": "code",
      "source": [
        "from gpt_download import download_and_load_gpt2\n",
        "\n",
        "settings, params = download_and_load_gpt2(model_size='124M',\n",
        "                                          models_dir='gpt2')"
      ],
      "metadata": {
        "colab": {
          "base_uri": "https://localhost:8080/"
        },
        "id": "z2rddllFdcf4",
        "outputId": "1ddd6e12-2cf9-428c-aedd-06107ceaffdf"
      },
      "execution_count": 5,
      "outputs": [
        {
          "output_type": "stream",
          "name": "stderr",
          "text": [
            "checkpoint: 100%|██████████| 77.0/77.0 [00:00<00:00, 30.1kiB/s]\n",
            "encoder.json: 100%|██████████| 1.04M/1.04M [00:00<00:00, 1.20MiB/s]\n",
            "hparams.json: 100%|██████████| 90.0/90.0 [00:00<00:00, 185kiB/s]\n",
            "model.ckpt.data-00000-of-00001: 100%|██████████| 498M/498M [01:36<00:00, 5.17MiB/s]\n",
            "model.ckpt.index: 100%|██████████| 5.21k/5.21k [00:00<00:00, 7.29MiB/s]\n",
            "model.ckpt.meta: 100%|██████████| 471k/471k [00:00<00:00, 540kiB/s]\n",
            "vocab.bpe: 100%|██████████| 456k/456k [00:00<00:00, 678kiB/s]\n"
          ]
        }
      ]
    },
    {
      "cell_type": "code",
      "source": [
        "print('settings:', settings)\n",
        "print('Parameter dictionary keys:', params.keys())"
      ],
      "metadata": {
        "colab": {
          "base_uri": "https://localhost:8080/"
        },
        "id": "ZFQWWskcdcbK",
        "outputId": "820deb23-c1d7-4ea5-b5c2-fe33b5f36be5"
      },
      "execution_count": 6,
      "outputs": [
        {
          "output_type": "stream",
          "name": "stdout",
          "text": [
            "settings: {'n_vocab': 50257, 'n_ctx': 1024, 'n_embd': 768, 'n_head': 12, 'n_layer': 12}\n",
            "Parameter dictionary keys: dict_keys(['blocks', 'b', 'g', 'wpe', 'wte'])\n"
          ]
        }
      ]
    },
    {
      "cell_type": "markdown",
      "source": [
        "`settings`: dictionary to store llm architecture settings (aka config)\n",
        "\n",
        "`params`: dictionary which stores weights of different layers"
      ],
      "metadata": {
        "id": "lPr98dQ8nk8_"
      }
    },
    {
      "cell_type": "code",
      "source": [
        "\n",
        "print('Weights of token embedding layer:\\n' , params['wte'])\n",
        "print('Shape: \\n',params['wte'].shape)"
      ],
      "metadata": {
        "colab": {
          "base_uri": "https://localhost:8080/"
        },
        "id": "LYrOrA8AdcXI",
        "outputId": "2b6f4f3c-c169-4d1d-ef65-fe6d0de47701"
      },
      "execution_count": 7,
      "outputs": [
        {
          "output_type": "stream",
          "name": "stdout",
          "text": [
            "Weights of token embedding layer:\n",
            " [[-0.11010301 -0.03926672  0.03310751 ... -0.1363697   0.01506208\n",
            "   0.04531523]\n",
            " [ 0.04034033 -0.04861503  0.04624869 ...  0.08605453  0.00253983\n",
            "   0.04318958]\n",
            " [-0.12746179  0.04793796  0.18410145 ...  0.08991534 -0.12972379\n",
            "  -0.08785918]\n",
            " ...\n",
            " [-0.04453601 -0.05483596  0.01225674 ...  0.10435229  0.09783269\n",
            "  -0.06952604]\n",
            " [ 0.1860082   0.01665728  0.04611587 ... -0.09625227  0.07847701\n",
            "  -0.02245961]\n",
            " [ 0.05135201 -0.02768905  0.0499369  ...  0.00704835  0.15519823\n",
            "   0.12067825]]\n",
            "Shape: \n",
            " (50257, 768)\n"
          ]
        }
      ]
    },
    {
      "cell_type": "code",
      "source": [
        "# config dict for different model sizes\n",
        "\n",
        "model_configs = {\n",
        "    \"gpt2-small (124M)\": {\"emb_dim\": 768, \"n_layers\": 12, \"n_heads\": 12},\n",
        "    \"gpt2-medium (355M)\": {\"emb_dim\": 1024, \"n_layers\": 24, \"n_heads\": 16},\n",
        "    \"gpt2-large (774M)\": {\"emb_dim\": 1280, \"n_layers\": 36, \"n_heads\": 20},\n",
        "    \"gpt2-xl (1558M)\": {\"emb_dim\": 1600, \"n_layers\": 48, \"n_heads\": 25},\n",
        "    }"
      ],
      "metadata": {
        "id": "Of3jXp5edb9O"
      },
      "execution_count": 8,
      "outputs": []
    },
    {
      "cell_type": "code",
      "source": [
        "CONFIG_124M = {\n",
        "    'vocab_size': 50257,\n",
        "    'context_length': 1024,\n",
        "    'emb_dim': 768,\n",
        "    'n_heads':12,\n",
        "    'n_layers': 12,\n",
        "    'drop_rate': 0.1,\n",
        "    'qkv_bias': True\n",
        "}"
      ],
      "metadata": {
        "id": "79XfOF7cZPxt"
      },
      "execution_count": 9,
      "outputs": []
    },
    {
      "cell_type": "code",
      "source": [
        "# gpt-2 small\n",
        "\n",
        "model_name = 'gpt2-small (124M)'\n",
        "CONFIG = CONFIG_124M.copy()\n",
        "CONFIG.update(model_configs[model_name])"
      ],
      "metadata": {
        "id": "GsrBXz4upAs2"
      },
      "execution_count": 10,
      "outputs": []
    },
    {
      "cell_type": "code",
      "source": [
        "import torch\n",
        "# utility function to check two tensors or array are of same dim\n",
        "def assign(left, right):\n",
        "  if left.shape != right.shape:\n",
        "    raise ValueError(f'Shape mismatch: {left.shape} != {right.shape}')\n",
        "\n",
        "  return torch.nn.Parameter(torch.tensor(right))"
      ],
      "metadata": {
        "id": "vNTMuz08rp3p"
      },
      "execution_count": 11,
      "outputs": []
    },
    {
      "cell_type": "markdown",
      "source": [
        "#### Loading openai weights into our GPT model code"
      ],
      "metadata": {
        "id": "1014zBQFsaCQ"
      }
    },
    {
      "cell_type": "code",
      "source": [
        "import numpy as np\n",
        "def load_weights_into_gpt(gpt, params):\n",
        "  gpt.pos_emb.weight = assign(gpt.pos_emb.weight, params['wpe'])\n",
        "  gpt.tok_emb.weight = assign(gpt.tok_emb.weight, params['wte'])\n",
        "\n",
        "  for b in range(len(params['blocks'])):\n",
        "\n",
        "    # query, key, value weight\n",
        "    q_w, k_w, v_w = np.split(\n",
        "        (params['blocks'][b]['attn']['c_attn'])['w'],\n",
        "        3, axis=-1)\n",
        "    gpt.trf_blocks[b].attn.W_query.weight = assign(gpt.trf_blocks[b].attn.W_query.weight, q_w.T)\n",
        "    gpt.trf_blocks[b].attn.W_key.weight = assign(gpt.trf_blocks[b].attn.W_key.weight, k_w.T)\n",
        "    gpt.trf_blocks[b].attn.W_value.weight = assign(gpt.trf_blocks[b].attn.W_value.weight, v_w.T)\n",
        "\n",
        "    # query, key, value bias\n",
        "    q_b, k_b, v_b = np.split(\n",
        "        (params['blocks'][b]['attn']['c_attn'])['b'],\n",
        "        3, axis=-1)\n",
        "    gpt.trf_blocks[b].attn.W_query.bias = assign(gpt.trf_blocks[b].attn.W_query.bias, q_b)\n",
        "    gpt.trf_blocks[b].attn.W_key.bias = assign(gpt.trf_blocks[b].attn.W_key.bias, k_b)\n",
        "    gpt.trf_blocks[b].attn.W_value.bias = assign(gpt.trf_blocks[b].attn.W_value.bias, v_b)\n",
        "\n",
        "    # out_proj weight and bias\n",
        "    gpt.trf_blocks[b].attn.out_proj.weight = assign(gpt.trf_blocks[b].attn.out_proj.weight, params['blocks'][b]['attn']['c_proj']['w'].T)\n",
        "    gpt.trf_blocks[b].attn.out_proj.bias = assign(gpt.trf_blocks[b].attn.out_proj.bias, params['blocks'][b]['attn']['c_proj']['b'])\n",
        "\n",
        "    # feedforward layer\n",
        "    gpt.trf_blocks[b].ff.layers[0].weight = assign(gpt.trf_blocks[b].ff.layers[0].weight, params['blocks'][b]['mlp']['c_fc']['w'].T)\n",
        "    gpt.trf_blocks[b].ff.layers[0].bias = assign(gpt.trf_blocks[b].ff.layers[0].bias, params['blocks'][b]['mlp']['c_fc']['b'])\n",
        "\n",
        "    gpt.trf_blocks[b].ff.layers[2].weight = assign(gpt.trf_blocks[b].ff.layers[2].weight, params['blocks'][b]['mlp']['c_proj']['w'].T)\n",
        "    gpt.trf_blocks[b].ff.layers[2].bias = assign(gpt.trf_blocks[b].ff.layers[2].bias, params['blocks'][b]['mlp']['c_proj']['b'])\n",
        "\n",
        "    # layer norm1\n",
        "    gpt.trf_blocks[b].norm1.scale = assign(gpt.trf_blocks[b].norm1.scale, params['blocks'][b]['ln_1']['g'])\n",
        "    gpt.trf_blocks[b].norm1.shift = assign(gpt.trf_blocks[b].norm1.shift, params['blocks'][b]['ln_1']['b'])\n",
        "\n",
        "    #layer norm2\n",
        "    gpt.trf_blocks[b].norm2.scale = assign(gpt.trf_blocks[b].norm2.scale, params['blocks'][b]['ln_2']['g'])\n",
        "    gpt.trf_blocks[b].norm2.shift = assign(gpt.trf_blocks[b].norm2.shift, params['blocks'][b]['ln_2']['b'])\n",
        "\n",
        "  #layer norm3\n",
        "  gpt.final_norm.scale = assign(gpt.final_norm.scale, params['g'])\n",
        "  gpt.final_norm.shift = assign(gpt.final_norm.shift, params['b'])\n",
        "\n",
        "  # out head\n",
        "  gpt.out_head.weight = assign(gpt.out_head.weight, params['wte'])\n",
        ""
      ],
      "metadata": {
        "id": "t9bKNozXsZWR"
      },
      "execution_count": 12,
      "outputs": []
    },
    {
      "cell_type": "code",
      "source": [
        "device = 'cuda' if torch.cuda.is_available() else 'cpu'\n",
        "device"
      ],
      "metadata": {
        "colab": {
          "base_uri": "https://localhost:8080/",
          "height": 35
        },
        "id": "5ZZMDgkCYyMQ",
        "outputId": "fc0e7ce0-8697-4cf9-a872-e188fb48508a"
      },
      "execution_count": 13,
      "outputs": [
        {
          "output_type": "execute_result",
          "data": {
            "text/plain": [
              "'cuda'"
            ],
            "application/vnd.google.colaboratory.intrinsic+json": {
              "type": "string"
            }
          },
          "metadata": {},
          "execution_count": 13
        }
      ]
    },
    {
      "cell_type": "code",
      "source": [
        "from GPT import GPTModel\n",
        "\n",
        "gpt = GPTModel(CONFIG)\n",
        "gpt.eval()\n",
        "load_weights_into_gpt(gpt, params)\n",
        "gpt.to(device);"
      ],
      "metadata": {
        "id": "8FAS-wRUI6T6"
      },
      "execution_count": 14,
      "outputs": []
    },
    {
      "cell_type": "code",
      "source": [
        "import tiktoken\n",
        "import torch.nn.functional as F\n",
        "\n",
        "from GPT import generate\n",
        "from utilities import text_to_token_ids, token_ids_to_text\n",
        "tokenizer = tiktoken.get_encoding('gpt2')"
      ],
      "metadata": {
        "id": "cAcQXgMcK9dr"
      },
      "execution_count": 15,
      "outputs": []
    },
    {
      "cell_type": "code",
      "source": [
        "torch.manual_seed(123)\n",
        "token_ids = generate(\n",
        "    model= gpt,\n",
        "    idx = text_to_token_ids('Every Effort moves you', tokenizer).to(device),\n",
        "    max_new_tokens = 25,\n",
        "    context_size = CONFIG['context_length'],\n",
        "    top_k = 40,\n",
        "    temp= 1.4\n",
        ")\n",
        "\n",
        "print(f'Output text:\\n {token_ids_to_text(token_ids, tokenizer)}')"
      ],
      "metadata": {
        "colab": {
          "base_uri": "https://localhost:8080/"
        },
        "id": "-SNItVeDLfQf",
        "outputId": "3d6a3cb9-403c-45f9-af2c-daba47b518f7"
      },
      "execution_count": 16,
      "outputs": [
        {
          "output_type": "stream",
          "name": "stdout",
          "text": [
            "Output text:\n",
            " Every Effort moves you as far as the target can go until the end of your turn. This effect cannot be prevented. As you move you gain\n"
          ]
        }
      ]
    },
    {
      "cell_type": "markdown",
      "source": [
        "`The Verdict` dataset"
      ],
      "metadata": {
        "id": "l7OIddobN6cd"
      }
    },
    {
      "cell_type": "code",
      "source": [
        "# loading the-verdict.txt file\n",
        "file_path = 'the-verdict.txt'\n",
        "with open(file_path, 'r', encoding='utf-8') as file:\n",
        "    text_data = file.read()\n",
        "\n",
        "text_data[:50]"
      ],
      "metadata": {
        "colab": {
          "base_uri": "https://localhost:8080/",
          "height": 35
        },
        "id": "ckbmf5UiORCO",
        "outputId": "1e858dc0-5b0f-4c83-c067-0b4ae938e218"
      },
      "execution_count": 17,
      "outputs": [
        {
          "output_type": "execute_result",
          "data": {
            "text/plain": [
              "'I HAD always thought Jack Gisburn rather a cheap g'"
            ],
            "application/vnd.google.colaboratory.intrinsic+json": {
              "type": "string"
            }
          },
          "metadata": {},
          "execution_count": 17
        }
      ]
    },
    {
      "cell_type": "code",
      "source": [
        "split = 0.8\n",
        "split_idx =  int(split*len(text_data))\n",
        "\n",
        "train_data = text_data[:split_idx]\n",
        "val_data = text_data[split_idx:]\n",
        "\n",
        "len(train_data), len(val_data)"
      ],
      "metadata": {
        "colab": {
          "base_uri": "https://localhost:8080/"
        },
        "id": "1MD3xWSkaA3H",
        "outputId": "d33592a7-9e40-4cd0-eb84-47db51aa5b42"
      },
      "execution_count": 28,
      "outputs": [
        {
          "output_type": "execute_result",
          "data": {
            "text/plain": [
              "(16383, 4096)"
            ]
          },
          "metadata": {},
          "execution_count": 28
        }
      ]
    },
    {
      "cell_type": "code",
      "source": [
        "# dataloader\n",
        "\n",
        "from CustomDatasetDataloader import create_dataloders_v1\n",
        "torch.manual_seed(123)\n",
        "\n",
        "train_dataloader = create_dataloders_v1(\n",
        "    txt=train_data,\n",
        "    batch_size= 1,\n",
        "    max_length= CONFIG['context_length'],\n",
        "    stride = CONFIG['context_length'],\n",
        "    drop_last= True,\n",
        "    shuffle = True,\n",
        "    num_workers = 0)\n",
        "\n",
        "val_dataloader = create_dataloders_v1(\n",
        "    txt=val_data,\n",
        "    batch_size= 1,\n",
        "    max_length= CONFIG['context_length'],\n",
        "    stride = CONFIG['context_length'],\n",
        "    drop_last= False,\n",
        "    shuffle = False,\n",
        "    num_workers = 0)"
      ],
      "metadata": {
        "id": "R3eHfQ2ZOh8G"
      },
      "execution_count": 47,
      "outputs": []
    },
    {
      "cell_type": "code",
      "source": [
        "for x, y in train_dataloader:\n",
        "  print(x.shape)\n",
        "  print(y.shape)"
      ],
      "metadata": {
        "colab": {
          "base_uri": "https://localhost:8080/"
        },
        "id": "ImnWpfv6TLaa",
        "outputId": "59fe9618-cff0-4254-d789-39b3436907a3"
      },
      "execution_count": 48,
      "outputs": [
        {
          "output_type": "stream",
          "name": "stdout",
          "text": [
            "torch.Size([1, 1024])\n",
            "torch.Size([1, 1024])\n",
            "torch.Size([1, 1024])\n",
            "torch.Size([1, 1024])\n",
            "torch.Size([1, 1024])\n",
            "torch.Size([1, 1024])\n",
            "torch.Size([1, 1024])\n",
            "torch.Size([1, 1024])\n"
          ]
        }
      ]
    },
    {
      "cell_type": "code",
      "source": [
        "for x, y in val_dataloader:\n",
        "  print(x.shape)\n",
        "  print(y.shape)"
      ],
      "metadata": {
        "colab": {
          "base_uri": "https://localhost:8080/"
        },
        "id": "hCdSrlx5TBc6",
        "outputId": "04f8ff27-3358-47c7-8ce7-57711db89f8c"
      },
      "execution_count": 49,
      "outputs": [
        {
          "output_type": "stream",
          "name": "stdout",
          "text": [
            "torch.Size([1, 1024])\n",
            "torch.Size([1, 1024])\n"
          ]
        }
      ]
    },
    {
      "cell_type": "code",
      "source": [
        "from utilities import train_model_simple, plot_losses\n",
        "import torch.nn.functional as F\n",
        "\n",
        "torch.manual_seed(123)\n",
        "optimizer = torch.optim.AdamW(gpt.parameters(), lr=0.0004, weight_decay= 0.1)\n",
        "\n",
        "epochs = 10\n",
        "\n",
        "train_losses, val_losses, token_seen = train_model_simple(\n",
        "    gpt, train_dataloader, val_dataloader, optimizer, device,\n",
        "    num_epochs=epochs, eval_freq=5, eval_iter= 5,\n",
        "    start_context= 'Every effort moves you', tokenizer=tokenizer)\n",
        "\n",
        "epochs_tensor = torch.linspace(0, epochs, len(train_losses))\n",
        "plot_losses(epochs_tensor, token_seen, train_losses, val_losses)"
      ],
      "metadata": {
        "colab": {
          "base_uri": "https://localhost:8080/",
          "height": 778
        },
        "id": "QrW6JJ93PTDN",
        "outputId": "f94a4788-142b-4c61-a3c7-31fb07b6c99b"
      },
      "execution_count": 50,
      "outputs": [
        {
          "output_type": "stream",
          "name": "stdout",
          "text": [
            "Epoch: 1 | Step: 000000\n",
            "Train Loss: 0.137 | Val Loss: 8.177\n",
            "Every effort moves you forward, but it's not till after that event that the _rose Dubarry_ drawing-rooms, the speaking-tubes, the dress-closets, the trouser-presses--all the complex simplifications of the millionaire's\n",
            "Epoch: 2 | Step: 000005\n",
            "Train Loss: 0.043 | Val Loss: 7.911\n",
            "Every effort moves you toward a neutral surface, you can always get near enough to see it. But it's the height of his glory, you can always get near enough to see it. The height of his glory--that was the height of his glory, at that\n",
            "Epoch: 3 | Step: 000010\n",
            "Train Loss: 0.038 | Val Loss: 7.425\n",
            "Every effort moves you can just manage to face it--it's the last he painted, you know, so it's been reared in the hot-house of their adulation. The fact should be set down in extenuation. What struck me now was that\n",
            "Epoch: 4 | Step: 000015\n",
            "Train Loss: 0.017 | Val Loss: 7.675\n",
            "Every effort moves you forward, but I don't think of that, Mr. Rickham--the _rose Dubarry_ drawing-rooms, or the _rose Dubarry_ drawing-rooms, or the _rose Dubarry_ drawing-rooms--the _rose\n",
            "Every effort moves you toward the easel, whereupon reflection, it suddenly occurred to me to wonder why Gisburn had given up his painting. On reflection, it really was a tempting problem. To accuse his wife would have been too easy--his fair sitters\n",
            "Epoch: 6 | Step: 000020\n",
            "Train Loss: 0.010 | Val Loss: 8.053\n",
            "Every effort moves you toward the easel, whereupon reflection on that fact, you found her so oddly disarming and disarming.  \"My dear, since I've chucked painting people don't say that stuff about me--they say it about Victor Grind\n",
            "Epoch: 7 | Step: 000025\n",
            "Train Loss: 0.015 | Val Loss: 8.198\n",
            "Every effort moves you toward the easel. The easel is the only object for garlands and incense.\" The word, on Mrs. Gisburn's lips, multiplied its _rs_ as though they were reflected in an endless vista of mirrors. And\n",
            "Epoch: 8 | Step: 000030\n",
            "Train Loss: 0.004 | Val Loss: 8.245\n",
            "Every effort moves you toward the easel. The easel is the only object for garlands and incense.\"  \"The surest way of proclaiming that fact--of forcing it on a purblind public. By forcing it on a purblind public. By\n",
            "Epoch: 9 | Step: 000035\n",
            "Train Loss: 0.008 | Val Loss: 8.263\n",
            "Every effort moves you toward the picture.  \"Of course it's going to send the value of my picture 'way up; but I don't think of that, Mr. Rickham--the loss to Arrt is all I think of.\"  \"\n",
            "Every effort moves you toward the portrait--forming, as it were, so inevitably the background of her own picture--had lent herself in an unusual degree to the display of this false virtuosity. The picture was one of Jack's \"strongest,\" as his admire\n"
          ]
        },
        {
          "output_type": "display_data",
          "data": {
            "text/plain": [
              "<Figure size 500x300 with 2 Axes>"
            ],
            "image/png": "[encoded data removed]"
          },
          "metadata": {}
        }
      ]
    },
    {
      "cell_type": "markdown",
      "source": [
        "over model is overfitting"
      ],
      "metadata": {
        "id": "tWfycm7zU0ZT"
      }
    },
    {
      "cell_type": "code",
      "source": [],
      "metadata": {
        "id": "bPg8Xwl-RHkP"
      },
      "execution_count": null,
      "outputs": []
    }
  ]
}