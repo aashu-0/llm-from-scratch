{
  "cells": [
    {
      "cell_type": "markdown",
      "metadata": {
        "id": "view-in-github",
        "colab_type": "text"
      },
      "source": [
        "<a href=\"https://colab.research.google.com/github/aashu-0/llm-from-scratch/blob/main/llm_book_notes/05pretraining-gpt.ipynb\" target=\"_parent\"><img src=\"https://colab.research.google.com/assets/colab-badge.svg\" alt=\"Open In Colab\"/></a>"
      ]
    },
    {
      "cell_type": "code",
      "source": [
        "# getting scripts from github\n",
        "!git clone https://github.com/aashu-0/llm-from-scratch.git\n",
        "%cd llm-from-scratch/llm_book_notes"
      ],
      "metadata": {
        "id": "8Rv95SrcAlq2",
        "outputId": "89ee4f69-eb4a-4a25-9453-277ab0f8b52b",
        "colab": {
          "base_uri": "https://localhost:8080/"
        }
      },
      "execution_count": 1,
      "outputs": [
        {
          "output_type": "stream",
          "name": "stdout",
          "text": [
            "Cloning into 'llm-from-scratch'...\n",
            "remote: Enumerating objects: 64, done.\u001b[K\n",
            "remote: Counting objects: 100% (64/64), done.\u001b[K\n",
            "remote: Compressing objects: 100% (48/48), done.\u001b[K\n",
            "remote: Total 64 (delta 30), reused 41 (delta 13), pack-reused 0 (from 0)\u001b[K\n",
            "Receiving objects: 100% (64/64), 80.90 KiB | 637.00 KiB/s, done.\n",
            "Resolving deltas: 100% (30/30), done.\n",
            "/content/llm-from-scratch/llm_book_notes\n"
          ]
        }
      ]
    },
    {
      "cell_type": "code",
      "source": [
        "import sys\n",
        "sys.path.append('/content/llm-from-scratch/llm_book_notes')"
      ],
      "metadata": {
        "id": "UhOM8bgLC6V6"
      },
      "execution_count": 2,
      "outputs": []
    },
    {
      "cell_type": "markdown",
      "metadata": {
        "id": "AK4DeVYJ8rom"
      },
      "source": [
        "#### **Pretraining on unlabeled data**"
      ]
    },
    {
      "cell_type": "markdown",
      "metadata": {
        "id": "r1H7VsCB8rop"
      },
      "source": [
        "To access weight of any layer : `layer_name.weight`\n",
        "\n",
        "To access all model trainable parameters: `model.parameters()`"
      ]
    },
    {
      "cell_type": "code",
      "execution_count": 3,
      "metadata": {
        "id": "cstLjUCp8ror",
        "outputId": "4f3c8fff-ff7c-49ea-d17a-67fc6bb23545",
        "colab": {
          "base_uri": "https://localhost:8080/"
        }
      },
      "outputs": [
        {
          "output_type": "execute_result",
          "data": {
            "text/plain": [
              "GPTModel(\n",
              "  (tok_emb): Embedding(50257, 768)\n",
              "  (pos_emb): Embedding(256, 768)\n",
              "  (drop_emb): Dropout(p=0.1, inplace=False)\n",
              "  (trf_blocks): Sequential(\n",
              "    (0): TransformerBlock(\n",
              "      (attn): MultiHeadAttention(\n",
              "        (W_query): Linear(in_features=768, out_features=768, bias=False)\n",
              "        (W_key): Linear(in_features=768, out_features=768, bias=False)\n",
              "        (W_value): Linear(in_features=768, out_features=768, bias=False)\n",
              "        (out_proj): Linear(in_features=768, out_features=768, bias=True)\n",
              "        (dropout): Dropout(p=0.1, inplace=False)\n",
              "      )\n",
              "      (ff): FeedForward(\n",
              "        (layers): Sequential(\n",
              "          (0): Linear(in_features=768, out_features=3072, bias=True)\n",
              "          (1): GELU()\n",
              "          (2): Linear(in_features=3072, out_features=768, bias=True)\n",
              "        )\n",
              "      )\n",
              "      (norm1): LayerNorm()\n",
              "      (norm2): LayerNorm()\n",
              "      (drop_shortcut): Dropout(p=0.1, inplace=False)\n",
              "    )\n",
              "    (1): TransformerBlock(\n",
              "      (attn): MultiHeadAttention(\n",
              "        (W_query): Linear(in_features=768, out_features=768, bias=False)\n",
              "        (W_key): Linear(in_features=768, out_features=768, bias=False)\n",
              "        (W_value): Linear(in_features=768, out_features=768, bias=False)\n",
              "        (out_proj): Linear(in_features=768, out_features=768, bias=True)\n",
              "        (dropout): Dropout(p=0.1, inplace=False)\n",
              "      )\n",
              "      (ff): FeedForward(\n",
              "        (layers): Sequential(\n",
              "          (0): Linear(in_features=768, out_features=3072, bias=True)\n",
              "          (1): GELU()\n",
              "          (2): Linear(in_features=3072, out_features=768, bias=True)\n",
              "        )\n",
              "      )\n",
              "      (norm1): LayerNorm()\n",
              "      (norm2): LayerNorm()\n",
              "      (drop_shortcut): Dropout(p=0.1, inplace=False)\n",
              "    )\n",
              "    (2): TransformerBlock(\n",
              "      (attn): MultiHeadAttention(\n",
              "        (W_query): Linear(in_features=768, out_features=768, bias=False)\n",
              "        (W_key): Linear(in_features=768, out_features=768, bias=False)\n",
              "        (W_value): Linear(in_features=768, out_features=768, bias=False)\n",
              "        (out_proj): Linear(in_features=768, out_features=768, bias=True)\n",
              "        (dropout): Dropout(p=0.1, inplace=False)\n",
              "      )\n",
              "      (ff): FeedForward(\n",
              "        (layers): Sequential(\n",
              "          (0): Linear(in_features=768, out_features=3072, bias=True)\n",
              "          (1): GELU()\n",
              "          (2): Linear(in_features=3072, out_features=768, bias=True)\n",
              "        )\n",
              "      )\n",
              "      (norm1): LayerNorm()\n",
              "      (norm2): LayerNorm()\n",
              "      (drop_shortcut): Dropout(p=0.1, inplace=False)\n",
              "    )\n",
              "    (3): TransformerBlock(\n",
              "      (attn): MultiHeadAttention(\n",
              "        (W_query): Linear(in_features=768, out_features=768, bias=False)\n",
              "        (W_key): Linear(in_features=768, out_features=768, bias=False)\n",
              "        (W_value): Linear(in_features=768, out_features=768, bias=False)\n",
              "        (out_proj): Linear(in_features=768, out_features=768, bias=True)\n",
              "        (dropout): Dropout(p=0.1, inplace=False)\n",
              "      )\n",
              "      (ff): FeedForward(\n",
              "        (layers): Sequential(\n",
              "          (0): Linear(in_features=768, out_features=3072, bias=True)\n",
              "          (1): GELU()\n",
              "          (2): Linear(in_features=3072, out_features=768, bias=True)\n",
              "        )\n",
              "      )\n",
              "      (norm1): LayerNorm()\n",
              "      (norm2): LayerNorm()\n",
              "      (drop_shortcut): Dropout(p=0.1, inplace=False)\n",
              "    )\n",
              "    (4): TransformerBlock(\n",
              "      (attn): MultiHeadAttention(\n",
              "        (W_query): Linear(in_features=768, out_features=768, bias=False)\n",
              "        (W_key): Linear(in_features=768, out_features=768, bias=False)\n",
              "        (W_value): Linear(in_features=768, out_features=768, bias=False)\n",
              "        (out_proj): Linear(in_features=768, out_features=768, bias=True)\n",
              "        (dropout): Dropout(p=0.1, inplace=False)\n",
              "      )\n",
              "      (ff): FeedForward(\n",
              "        (layers): Sequential(\n",
              "          (0): Linear(in_features=768, out_features=3072, bias=True)\n",
              "          (1): GELU()\n",
              "          (2): Linear(in_features=3072, out_features=768, bias=True)\n",
              "        )\n",
              "      )\n",
              "      (norm1): LayerNorm()\n",
              "      (norm2): LayerNorm()\n",
              "      (drop_shortcut): Dropout(p=0.1, inplace=False)\n",
              "    )\n",
              "    (5): TransformerBlock(\n",
              "      (attn): MultiHeadAttention(\n",
              "        (W_query): Linear(in_features=768, out_features=768, bias=False)\n",
              "        (W_key): Linear(in_features=768, out_features=768, bias=False)\n",
              "        (W_value): Linear(in_features=768, out_features=768, bias=False)\n",
              "        (out_proj): Linear(in_features=768, out_features=768, bias=True)\n",
              "        (dropout): Dropout(p=0.1, inplace=False)\n",
              "      )\n",
              "      (ff): FeedForward(\n",
              "        (layers): Sequential(\n",
              "          (0): Linear(in_features=768, out_features=3072, bias=True)\n",
              "          (1): GELU()\n",
              "          (2): Linear(in_features=3072, out_features=768, bias=True)\n",
              "        )\n",
              "      )\n",
              "      (norm1): LayerNorm()\n",
              "      (norm2): LayerNorm()\n",
              "      (drop_shortcut): Dropout(p=0.1, inplace=False)\n",
              "    )\n",
              "    (6): TransformerBlock(\n",
              "      (attn): MultiHeadAttention(\n",
              "        (W_query): Linear(in_features=768, out_features=768, bias=False)\n",
              "        (W_key): Linear(in_features=768, out_features=768, bias=False)\n",
              "        (W_value): Linear(in_features=768, out_features=768, bias=False)\n",
              "        (out_proj): Linear(in_features=768, out_features=768, bias=True)\n",
              "        (dropout): Dropout(p=0.1, inplace=False)\n",
              "      )\n",
              "      (ff): FeedForward(\n",
              "        (layers): Sequential(\n",
              "          (0): Linear(in_features=768, out_features=3072, bias=True)\n",
              "          (1): GELU()\n",
              "          (2): Linear(in_features=3072, out_features=768, bias=True)\n",
              "        )\n",
              "      )\n",
              "      (norm1): LayerNorm()\n",
              "      (norm2): LayerNorm()\n",
              "      (drop_shortcut): Dropout(p=0.1, inplace=False)\n",
              "    )\n",
              "    (7): TransformerBlock(\n",
              "      (attn): MultiHeadAttention(\n",
              "        (W_query): Linear(in_features=768, out_features=768, bias=False)\n",
              "        (W_key): Linear(in_features=768, out_features=768, bias=False)\n",
              "        (W_value): Linear(in_features=768, out_features=768, bias=False)\n",
              "        (out_proj): Linear(in_features=768, out_features=768, bias=True)\n",
              "        (dropout): Dropout(p=0.1, inplace=False)\n",
              "      )\n",
              "      (ff): FeedForward(\n",
              "        (layers): Sequential(\n",
              "          (0): Linear(in_features=768, out_features=3072, bias=True)\n",
              "          (1): GELU()\n",
              "          (2): Linear(in_features=3072, out_features=768, bias=True)\n",
              "        )\n",
              "      )\n",
              "      (norm1): LayerNorm()\n",
              "      (norm2): LayerNorm()\n",
              "      (drop_shortcut): Dropout(p=0.1, inplace=False)\n",
              "    )\n",
              "    (8): TransformerBlock(\n",
              "      (attn): MultiHeadAttention(\n",
              "        (W_query): Linear(in_features=768, out_features=768, bias=False)\n",
              "        (W_key): Linear(in_features=768, out_features=768, bias=False)\n",
              "        (W_value): Linear(in_features=768, out_features=768, bias=False)\n",
              "        (out_proj): Linear(in_features=768, out_features=768, bias=True)\n",
              "        (dropout): Dropout(p=0.1, inplace=False)\n",
              "      )\n",
              "      (ff): FeedForward(\n",
              "        (layers): Sequential(\n",
              "          (0): Linear(in_features=768, out_features=3072, bias=True)\n",
              "          (1): GELU()\n",
              "          (2): Linear(in_features=3072, out_features=768, bias=True)\n",
              "        )\n",
              "      )\n",
              "      (norm1): LayerNorm()\n",
              "      (norm2): LayerNorm()\n",
              "      (drop_shortcut): Dropout(p=0.1, inplace=False)\n",
              "    )\n",
              "    (9): TransformerBlock(\n",
              "      (attn): MultiHeadAttention(\n",
              "        (W_query): Linear(in_features=768, out_features=768, bias=False)\n",
              "        (W_key): Linear(in_features=768, out_features=768, bias=False)\n",
              "        (W_value): Linear(in_features=768, out_features=768, bias=False)\n",
              "        (out_proj): Linear(in_features=768, out_features=768, bias=True)\n",
              "        (dropout): Dropout(p=0.1, inplace=False)\n",
              "      )\n",
              "      (ff): FeedForward(\n",
              "        (layers): Sequential(\n",
              "          (0): Linear(in_features=768, out_features=3072, bias=True)\n",
              "          (1): GELU()\n",
              "          (2): Linear(in_features=3072, out_features=768, bias=True)\n",
              "        )\n",
              "      )\n",
              "      (norm1): LayerNorm()\n",
              "      (norm2): LayerNorm()\n",
              "      (drop_shortcut): Dropout(p=0.1, inplace=False)\n",
              "    )\n",
              "    (10): TransformerBlock(\n",
              "      (attn): MultiHeadAttention(\n",
              "        (W_query): Linear(in_features=768, out_features=768, bias=False)\n",
              "        (W_key): Linear(in_features=768, out_features=768, bias=False)\n",
              "        (W_value): Linear(in_features=768, out_features=768, bias=False)\n",
              "        (out_proj): Linear(in_features=768, out_features=768, bias=True)\n",
              "        (dropout): Dropout(p=0.1, inplace=False)\n",
              "      )\n",
              "      (ff): FeedForward(\n",
              "        (layers): Sequential(\n",
              "          (0): Linear(in_features=768, out_features=3072, bias=True)\n",
              "          (1): GELU()\n",
              "          (2): Linear(in_features=3072, out_features=768, bias=True)\n",
              "        )\n",
              "      )\n",
              "      (norm1): LayerNorm()\n",
              "      (norm2): LayerNorm()\n",
              "      (drop_shortcut): Dropout(p=0.1, inplace=False)\n",
              "    )\n",
              "    (11): TransformerBlock(\n",
              "      (attn): MultiHeadAttention(\n",
              "        (W_query): Linear(in_features=768, out_features=768, bias=False)\n",
              "        (W_key): Linear(in_features=768, out_features=768, bias=False)\n",
              "        (W_value): Linear(in_features=768, out_features=768, bias=False)\n",
              "        (out_proj): Linear(in_features=768, out_features=768, bias=True)\n",
              "        (dropout): Dropout(p=0.1, inplace=False)\n",
              "      )\n",
              "      (ff): FeedForward(\n",
              "        (layers): Sequential(\n",
              "          (0): Linear(in_features=768, out_features=3072, bias=True)\n",
              "          (1): GELU()\n",
              "          (2): Linear(in_features=3072, out_features=768, bias=True)\n",
              "        )\n",
              "      )\n",
              "      (norm1): LayerNorm()\n",
              "      (norm2): LayerNorm()\n",
              "      (drop_shortcut): Dropout(p=0.1, inplace=False)\n",
              "    )\n",
              "  )\n",
              "  (final_norm): LayerNorm()\n",
              "  (out_head): Linear(in_features=768, out_features=50257, bias=False)\n",
              ")"
            ]
          },
          "metadata": {},
          "execution_count": 3
        }
      ],
      "source": [
        "# 1. Text Generation\n",
        "\n",
        "import torch\n",
        "from GPT import GPTModel\n",
        "\n",
        "GPT_CONFIG_124M = {\n",
        "    'vocab_size': 50257,\n",
        "    'context_length': 256,\n",
        "    'emb_dim': 768,\n",
        "    'n_heads':12,\n",
        "    'n_layers': 12,\n",
        "    'drop_rate': 0.1,\n",
        "    'qkv_bias': False\n",
        "}\n",
        "\n",
        "torch.manual_seed(123)\n",
        "model = GPTModel(config=GPT_CONFIG_124M)\n",
        "model.eval()"
      ]
    },
    {
      "cell_type": "code",
      "source": [
        "!pip install tiktoken"
      ],
      "metadata": {
        "id": "E7Po_2c2EL8O",
        "outputId": "c269a1de-65d9-4b37-8f21-73c6ae55e283",
        "colab": {
          "base_uri": "https://localhost:8080/"
        }
      },
      "execution_count": 4,
      "outputs": [
        {
          "output_type": "stream",
          "name": "stdout",
          "text": [
            "Collecting tiktoken\n",
            "  Downloading tiktoken-0.9.0-cp311-cp311-manylinux_2_17_x86_64.manylinux2014_x86_64.whl.metadata (6.7 kB)\n",
            "Requirement already satisfied: regex>=2022.1.18 in /usr/local/lib/python3.11/dist-packages (from tiktoken) (2024.11.6)\n",
            "Requirement already satisfied: requests>=2.26.0 in /usr/local/lib/python3.11/dist-packages (from tiktoken) (2.32.3)\n",
            "Requirement already satisfied: charset-normalizer<4,>=2 in /usr/local/lib/python3.11/dist-packages (from requests>=2.26.0->tiktoken) (3.4.1)\n",
            "Requirement already satisfied: idna<4,>=2.5 in /usr/local/lib/python3.11/dist-packages (from requests>=2.26.0->tiktoken) (3.10)\n",
            "Requirement already satisfied: urllib3<3,>=1.21.1 in /usr/local/lib/python3.11/dist-packages (from requests>=2.26.0->tiktoken) (2.3.0)\n",
            "Requirement already satisfied: certifi>=2017.4.17 in /usr/local/lib/python3.11/dist-packages (from requests>=2.26.0->tiktoken) (2025.1.31)\n",
            "Downloading tiktoken-0.9.0-cp311-cp311-manylinux_2_17_x86_64.manylinux2014_x86_64.whl (1.2 MB)\n",
            "\u001b[?25l   \u001b[90m━━━━━━━━━━━━━━━━━━━━━━━━━━━━━━━━━━━━━━━━\u001b[0m \u001b[32m0.0/1.2 MB\u001b[0m \u001b[31m?\u001b[0m eta \u001b[36m-:--:--\u001b[0m\r\u001b[2K   \u001b[91m━━━━━━━━━━\u001b[0m\u001b[91m╸\u001b[0m\u001b[90m━━━━━━━━━━━━━━━━━━━━━━━━━━━━━\u001b[0m \u001b[32m0.3/1.2 MB\u001b[0m \u001b[31m9.5 MB/s\u001b[0m eta \u001b[36m0:00:01\u001b[0m\r\u001b[2K   \u001b[90m━━━━━━━━━━━━━━━━━━━━━━━━━━━━━━━━━━━━━━━━\u001b[0m \u001b[32m1.2/1.2 MB\u001b[0m \u001b[31m19.5 MB/s\u001b[0m eta \u001b[36m0:00:00\u001b[0m\n",
            "\u001b[?25hInstalling collected packages: tiktoken\n",
            "Successfully installed tiktoken-0.9.0\n"
          ]
        }
      ]
    },
    {
      "cell_type": "code",
      "execution_count": 5,
      "metadata": {
        "id": "66HsPxNl8rov"
      },
      "outputs": [],
      "source": [
        "import tiktoken\n",
        "from GPT import generate_text_simple\n",
        "\n",
        "# function to text to token_id and token_ids_to_text\n",
        "def text_to_token_ids(text, tokenizer):\n",
        "    encoded = tokenizer.encode(text, allowed_special= {'<|endoftext|>'})\n",
        "    encoded_tensor = torch.tensor(encoded).unsqueeze(0)\n",
        "    return encoded_tensor\n",
        "\n",
        "def token_ids_to_text(token_ids, tokenizer):\n",
        "    decoded_text = tokenizer.decode(token_ids.squeeze(0).tolist())\n",
        "    return decoded_text"
      ]
    },
    {
      "cell_type": "code",
      "execution_count": 6,
      "metadata": {
        "id": "DxyqjXW08row",
        "outputId": "d165c4d0-9c21-4c67-bc95-866c5ead7700",
        "colab": {
          "base_uri": "https://localhost:8080/"
        }
      },
      "outputs": [
        {
          "output_type": "stream",
          "name": "stdout",
          "text": [
            "Input Text: Every Effort Moves you\n",
            "Output Text: Every Effort Moves you finisheduxeHandle appropriation pigment cotton feellike poll liberate\n"
          ]
        }
      ],
      "source": [
        "start_context = 'Every Effort Moves you'\n",
        "tokenizer = tiktoken.get_encoding('gpt2')\n",
        "\n",
        "input_ids = text_to_token_ids(start_context, tokenizer)\n",
        "\n",
        "token_ids = generate_text_simple(\n",
        "    model = model,\n",
        "    idx = input_ids,\n",
        "    max_new_tokens = 10,\n",
        "    context_size= GPT_CONFIG_124M['context_length']\n",
        ")\n",
        "\n",
        "output = token_ids_to_text(token_ids, tokenizer)\n",
        "\n",
        "print(f'Input Text: {start_context}')\n",
        "print(f'Output Text: {output}')"
      ]
    },
    {
      "cell_type": "code",
      "source": [
        "print(tokenizer.encode('every effort moves you'))\n",
        "print(tokenizer.encode('I really like chocolate'))"
      ],
      "metadata": {
        "id": "eaVZ-KLhEknj",
        "outputId": "1f07dd82-0ffa-4711-ed50-d6243f08a163",
        "colab": {
          "base_uri": "https://localhost:8080/"
        }
      },
      "execution_count": 7,
      "outputs": [
        {
          "output_type": "stream",
          "name": "stdout",
          "text": [
            "[16833, 3626, 6100, 345]\n",
            "[40, 1107, 588, 11311]\n"
          ]
        }
      ]
    },
    {
      "cell_type": "markdown",
      "metadata": {
        "id": "dn0w5L-n8rox"
      },
      "source": [
        "#### 1. Text Generation"
      ]
    },
    {
      "cell_type": "code",
      "execution_count": 8,
      "metadata": {
        "id": "2J8rGFeP8roy"
      },
      "outputs": [],
      "source": [
        "# inputs and targets (shifting concept)\n",
        "inputs = torch.tensor([[16833, 3626, 6100],\n",
        "                       [40, 1107, 588]])\n",
        "\n",
        "targets = torch.tensor([[3626, 6100, 345],\n",
        "                        [1107, 588, 11311]])"
      ]
    },
    {
      "cell_type": "code",
      "execution_count": 9,
      "metadata": {
        "id": "6YDdOe468roz",
        "outputId": "8c9cd061-901c-4f78-cfef-ced232f8ae8b",
        "colab": {
          "base_uri": "https://localhost:8080/"
        }
      },
      "outputs": [
        {
          "output_type": "stream",
          "name": "stdout",
          "text": [
            "Logits: tensor([[[ 0.1113, -0.1057, -0.3666,  ...,  0.2843, -0.8824,  0.1074],\n",
            "         [-0.6109, -0.5167, -0.7613,  ...,  0.5450, -1.0319, -0.2175],\n",
            "         [ 0.5707, -0.6459, -0.0701,  ...,  0.7419, -0.1806, -0.2217]],\n",
            "\n",
            "        [[-0.2968,  0.1949, -0.1649,  ..., -0.4867,  0.7218, -0.1714],\n",
            "         [-0.8375,  0.0612, -0.4641,  ...,  0.2327, -0.3889, -0.0770],\n",
            "         [ 0.5614,  0.6919,  0.8915,  ..., -0.9472,  1.2411, -0.2056]]])\n",
            "\n",
            "Probas Shape: torch.Size([2, 3, 50257])\n",
            "\n",
            "Probas: tensor([[[1.8849e-05, 1.5172e-05, 1.1687e-05,  ..., 2.2409e-05,\n",
            "          6.9776e-06, 1.8776e-05],\n",
            "         [9.1569e-06, 1.0062e-05, 7.8786e-06,  ..., 2.9090e-05,\n",
            "          6.0103e-06, 1.3571e-05],\n",
            "         [2.9877e-05, 8.8507e-06, 1.5741e-05,  ..., 3.5456e-05,\n",
            "          1.4094e-05, 1.3526e-05]],\n",
            "\n",
            "        [[1.2561e-05, 2.0538e-05, 1.4332e-05,  ..., 1.0389e-05,\n",
            "          3.4784e-05, 1.4239e-05],\n",
            "         [7.2731e-06, 1.7864e-05, 1.0565e-05,  ..., 2.1206e-05,\n",
            "          1.1390e-05, 1.5559e-05],\n",
            "         [2.9496e-05, 3.3605e-05, 4.1029e-05,  ..., 6.5249e-06,\n",
            "          5.8203e-05, 1.3698e-05]]])\n"
          ]
        }
      ],
      "source": [
        "# calculating probability scores\n",
        "with torch.no_grad():\n",
        "    logits = model(inputs)\n",
        "\n",
        "probas = torch.softmax(logits, dim=-1)\n",
        "print(f'Logits: {logits}\\n')\n",
        "print(f'Probas Shape: {probas.shape}\\n')   #[batch_size, n_tokens, emb_dim]\n",
        "print(f'Probas: {probas}')"
      ]
    },
    {
      "cell_type": "code",
      "execution_count": 10,
      "metadata": {
        "id": "_2lg9sIH8ro0",
        "outputId": "dad957dc-2a76-410d-8568-6e0742c2ab47",
        "colab": {
          "base_uri": "https://localhost:8080/"
        }
      },
      "outputs": [
        {
          "output_type": "stream",
          "name": "stdout",
          "text": [
            "Token IDs: tensor([[[16657],\n",
            "         [  339],\n",
            "         [42826]],\n",
            "\n",
            "        [[49906],\n",
            "         [29669],\n",
            "         [41751]]])\n",
            "Token IDs Shape: torch.Size([2, 3, 1])\n"
          ]
        }
      ],
      "source": [
        "token_ids = torch.argmax(probas, dim=-1, keepdim=True)\n",
        "print(f'Token IDs: {token_ids}')\n",
        "print(f'Token IDs Shape: {token_ids.shape}')"
      ]
    },
    {
      "cell_type": "code",
      "execution_count": 11,
      "metadata": {
        "id": "y6GNh-Ou8ro1",
        "outputId": "2f2a209a-dd5c-4dd9-97d3-367645ff5b3e",
        "colab": {
          "base_uri": "https://localhost:8080/"
        }
      },
      "outputs": [
        {
          "output_type": "stream",
          "name": "stdout",
          "text": [
            "Targets Batch 1 :  effort moves you\n",
            "Output Batch 1:  Armed heNetflix\n"
          ]
        }
      ],
      "source": [
        "#token ids to output text\n",
        "\n",
        "target_batch_1 = token_ids_to_text(targets[0], tokenizer)\n",
        "output_batch_1 = token_ids_to_text(token_ids[0].flatten(), tokenizer)\n",
        "\n",
        "print(f'Targets Batch 1 : {target_batch_1}')\n",
        "print(f'Output Batch 1: {output_batch_1}')"
      ]
    },
    {
      "cell_type": "markdown",
      "metadata": {
        "id": "wVVeyj748ro2"
      },
      "source": [
        "#### 2. Text Evaluation"
      ]
    },
    {
      "cell_type": "markdown",
      "metadata": {
        "id": "dEo7t31I8ro3"
      },
      "source": [
        "1. `Logits`\n",
        "\n",
        "2. `Probabilities`\n",
        "\n",
        "3. `Target Probabilities`\n",
        "\n",
        "4. `Log Probabilities`\n",
        "\n",
        "5. `Average Log Probability`\n",
        "\n",
        "6. `Negative avg log probability`"
      ]
    },
    {
      "cell_type": "code",
      "execution_count": 12,
      "metadata": {
        "id": "_tg02EY48ro3",
        "outputId": "480dce50-9438-46e7-f935-4d002fe93354",
        "colab": {
          "base_uri": "https://localhost:8080/"
        }
      },
      "outputs": [
        {
          "output_type": "execute_result",
          "data": {
            "text/plain": [
              "(tensor([3626, 6100,  345]), tensor([ 1107,   588, 11311]))"
            ]
          },
          "metadata": {},
          "execution_count": 12
        }
      ],
      "source": [
        "targets[0], targets[1]"
      ]
    },
    {
      "cell_type": "code",
      "execution_count": 13,
      "metadata": {
        "id": "MguEp1Lt8ro4",
        "outputId": "3243186a-c0d9-4a05-d6ef-50fe3abf1ffc",
        "colab": {
          "base_uri": "https://localhost:8080/"
        }
      },
      "outputs": [
        {
          "output_type": "stream",
          "name": "stdout",
          "text": [
            "Text 1 probability: tensor([7.4540e-05, 3.1061e-05, 1.1563e-05])\n",
            "Text 2 probability: tensor([1.0337e-05, 5.6776e-05, 4.7559e-06])\n"
          ]
        }
      ],
      "source": [
        "# getting the probability scores corresponding to target tokens\n",
        "# Target Probabilities\n",
        "\n",
        "text_idx = 0\n",
        "target_probas_1 = probas[text_idx, [0,1,2], targets[text_idx]]\n",
        "print(f'Text 1 probability: {target_probas_1}')\n",
        "\n",
        "text_idx = 1\n",
        "target_probas_2 = probas[text_idx, [0,1,2], targets[text_idx]]\n",
        "print(f'Text 2 probability: {target_probas_2}')"
      ]
    },
    {
      "cell_type": "code",
      "execution_count": 14,
      "metadata": {
        "id": "XkUHNZR38ro5",
        "outputId": "08967602-7569-4240-c900-133e0cfb3840",
        "colab": {
          "base_uri": "https://localhost:8080/"
        }
      },
      "outputs": [
        {
          "output_type": "execute_result",
          "data": {
            "text/plain": [
              "tensor([ -9.5042, -10.3796, -11.3677, -11.4798,  -9.7764, -12.2561])"
            ]
          },
          "metadata": {},
          "execution_count": 14
        }
      ],
      "source": [
        "# log_probability\n",
        "log_probas = torch.log(torch.cat((target_probas_1, target_probas_2)))\n",
        "log_probas"
      ]
    },
    {
      "cell_type": "markdown",
      "metadata": {
        "id": "tmGyJYC-8ro6"
      },
      "source": [
        "Why log of probability scores\n",
        "1. stronger penalization for incorrect predictions.\n",
        "    - `prob = 0.9 => -log(0.9) = 0.10`\n",
        "    - `prob = 0.01 => -log(0.01) = 4.6`\n",
        "2. makes the loss func convex\n",
        "3. prevent numerical underflow\n",
        "4. handles zero prob, avoiding undefined gradients"
      ]
    },
    {
      "cell_type": "code",
      "execution_count": 15,
      "metadata": {
        "id": "Wn6yZjab8ro6",
        "outputId": "009a9e49-421f-475e-d16f-b2b9d6e2f74f",
        "colab": {
          "base_uri": "https://localhost:8080/"
        }
      },
      "outputs": [
        {
          "output_type": "execute_result",
          "data": {
            "text/plain": [
              "tensor(-10.7940)"
            ]
          },
          "metadata": {},
          "execution_count": 15
        }
      ],
      "source": [
        "# avg log probabiltiy\n",
        "avg_log_probas = torch.mean(log_probas)\n",
        "avg_log_probas"
      ]
    },
    {
      "cell_type": "code",
      "execution_count": 16,
      "metadata": {
        "id": "99iRK4uU8ro6",
        "outputId": "b22d3661-e7f9-4993-9961-0cd358594e71",
        "colab": {
          "base_uri": "https://localhost:8080/"
        }
      },
      "outputs": [
        {
          "output_type": "execute_result",
          "data": {
            "text/plain": [
              "tensor(10.7940)"
            ]
          },
          "metadata": {},
          "execution_count": 16
        }
      ],
      "source": [
        "# neg avg log probability\n",
        "neg_avg_log_prob = avg_log_probas*-1\n",
        "neg_avg_log_prob"
      ]
    },
    {
      "cell_type": "markdown",
      "metadata": {
        "id": "q0HI_oLJ8ro7"
      },
      "source": [
        "`Cross Entropy Loss`: negative log-likelihood\n",
        "\n",
        "takes care of steps `2` to `5`"
      ]
    },
    {
      "cell_type": "code",
      "execution_count": 17,
      "metadata": {
        "id": "Os6ghycy8ro7",
        "outputId": "5e3a9b0a-b371-4484-b1f4-3fd2421e9a48",
        "colab": {
          "base_uri": "https://localhost:8080/"
        }
      },
      "outputs": [
        {
          "output_type": "stream",
          "name": "stdout",
          "text": [
            "Logits Shape: torch.Size([2, 3, 50257])\n",
            "Targets Shape: torch.Size([2, 3])\n"
          ]
        }
      ],
      "source": [
        "print(f'Logits Shape: {logits.shape}')\n",
        "print(f'Targets Shape: {targets.shape}')"
      ]
    },
    {
      "cell_type": "markdown",
      "metadata": {
        "id": "i-xtcCkk8ro8"
      },
      "source": [
        "Why flatten?\n",
        "\n",
        "because `cross_entropy()` expects `targets` to be 1D`[N]` and `logits` as 2D tensor`[N,C]`\n",
        "\n",
        "where\n",
        "* `N` = number of samples (batch_size * seq_length)\n",
        "\n",
        "* `C` = num of classes (vocab_size)"
      ]
    },
    {
      "cell_type": "code",
      "execution_count": 18,
      "metadata": {
        "id": "5uJ-6g5c8ro8",
        "outputId": "a4e01516-9c1d-4e26-f2ae-5b222f292545",
        "colab": {
          "base_uri": "https://localhost:8080/"
        }
      },
      "outputs": [
        {
          "output_type": "stream",
          "name": "stdout",
          "text": [
            "Flattened Logits Shape: torch.Size([6, 50257])\n",
            "Targets Logits Shape: torch.Size([6])\n"
          ]
        }
      ],
      "source": [
        "# flatten these tensors\n",
        "\n",
        "logits_flat = logits.flatten(0,1)\n",
        "targets_flat = targets.flatten()\n",
        "\n",
        "print(f'Flattened Logits Shape: {logits_flat.shape}')\n",
        "print(f'Targets Logits Shape: {targets_flat.shape}')"
      ]
    },
    {
      "cell_type": "code",
      "execution_count": 19,
      "metadata": {
        "id": "rsBjYqaG8ro8",
        "outputId": "454cfb1b-00a1-4454-8040-39e2b8fbdd60",
        "colab": {
          "base_uri": "https://localhost:8080/"
        }
      },
      "outputs": [
        {
          "output_type": "stream",
          "name": "stdout",
          "text": [
            "tensor(10.7940)\n"
          ]
        }
      ],
      "source": [
        "import torch.nn.functional as F\n",
        "loss = F.cross_entropy(logits_flat, targets_flat)\n",
        "print(loss)"
      ]
    },
    {
      "cell_type": "markdown",
      "metadata": {
        "id": "s4IkSAuE8ro9"
      },
      "source": [
        "**Perplexity**\n",
        "- measures how well the prob distribution predicted by the model matches the actual distribution of words in the dataset\n",
        "- it quantifies uncertainty or randomness in predictions\n",
        "- lower = better model, higher = worse model\n",
        "- `perplexity = torch.exp(loss)`\n",
        "- more interpretable than raw_loss"
      ]
    },
    {
      "cell_type": "markdown",
      "metadata": {
        "id": "Xij_fMtH8ro9"
      },
      "source": [
        "#### Training and Validation losses"
      ]
    },
    {
      "cell_type": "code",
      "execution_count": 20,
      "metadata": {
        "id": "VXs20WKQ8ro9",
        "outputId": "2687604f-51df-4811-c95b-aa4a60c89244",
        "colab": {
          "base_uri": "https://localhost:8080/",
          "height": 35
        }
      },
      "outputs": [
        {
          "output_type": "execute_result",
          "data": {
            "text/plain": [
              "'I HAD always thought Jack Gisburn rather a cheap g'"
            ],
            "application/vnd.google.colaboratory.intrinsic+json": {
              "type": "string"
            }
          },
          "metadata": {},
          "execution_count": 20
        }
      ],
      "source": [
        "# fecthing the raw_data from the_verdict.txt file\n",
        "\n",
        "file_path = 'the-verdict.txt'\n",
        "with open(file_path, 'r', encoding='utf-8') as file:\n",
        "    text_data = file.read()\n",
        "\n",
        "text_data[:50]"
      ]
    },
    {
      "cell_type": "code",
      "execution_count": 21,
      "metadata": {
        "id": "nr9keGOZ8ro-",
        "outputId": "42da6b34-b98e-4a68-b2ba-bb363a3b741d",
        "colab": {
          "base_uri": "https://localhost:8080/"
        }
      },
      "outputs": [
        {
          "output_type": "stream",
          "name": "stdout",
          "text": [
            "Total number of characters: 20479\n",
            "Total number of tokens: 5145\n"
          ]
        }
      ],
      "source": [
        "total_chars = len(text_data)\n",
        "total_tokens = len(tokenizer.encode(text_data))\n",
        "\n",
        "print(f'Total number of characters: {total_chars}')\n",
        "print(f'Total number of tokens: {total_tokens}')"
      ]
    },
    {
      "cell_type": "code",
      "execution_count": 22,
      "metadata": {
        "id": "GAu5v5QK8ro-"
      },
      "outputs": [],
      "source": [
        "train_split = 0.9\n",
        "split_idx = int(train_split* len(text_data))\n",
        "\n",
        "train_data = text_data[:split_idx]\n",
        "val_data = text_data[split_idx:]\n",
        "\n",
        "# train_data, val_data"
      ]
    },
    {
      "cell_type": "code",
      "execution_count": 23,
      "metadata": {
        "id": "-iXFQYd68ro_"
      },
      "outputs": [],
      "source": [
        "# training and validation dataloader\n",
        "\n",
        "from CustomDatasetDataloader import create_dataloders_v1\n",
        "torch.manual_seed(123)\n",
        "\n",
        "train_dataloader = create_dataloders_v1(\n",
        "    txt=train_data,\n",
        "    batch_size= 2,\n",
        "    max_length= GPT_CONFIG_124M['context_length'],\n",
        "    stride = GPT_CONFIG_124M['context_length'],\n",
        "    drop_last= True,\n",
        "    shuffle = True,\n",
        "    num_workers = 0)\n",
        "\n",
        "val_dataloader = create_dataloders_v1(\n",
        "    txt=val_data,\n",
        "    batch_size= 2,\n",
        "    max_length= GPT_CONFIG_124M['context_length'],\n",
        "    stride = GPT_CONFIG_124M['context_length'],\n",
        "    drop_last= False,\n",
        "    shuffle = False,\n",
        "    num_workers = 0)"
      ]
    },
    {
      "cell_type": "code",
      "source": [
        "for x, y in train_dataloader:\n",
        "  print(x.shape, y.shape)"
      ],
      "metadata": {
        "id": "zsGMVZN9HTUg",
        "outputId": "64030262-a4f2-46f0-d210-75ddf84555aa",
        "colab": {
          "base_uri": "https://localhost:8080/"
        }
      },
      "execution_count": 24,
      "outputs": [
        {
          "output_type": "stream",
          "name": "stdout",
          "text": [
            "torch.Size([2, 256]) torch.Size([2, 256])\n",
            "torch.Size([2, 256]) torch.Size([2, 256])\n",
            "torch.Size([2, 256]) torch.Size([2, 256])\n",
            "torch.Size([2, 256]) torch.Size([2, 256])\n",
            "torch.Size([2, 256]) torch.Size([2, 256])\n",
            "torch.Size([2, 256]) torch.Size([2, 256])\n",
            "torch.Size([2, 256]) torch.Size([2, 256])\n",
            "torch.Size([2, 256]) torch.Size([2, 256])\n",
            "torch.Size([2, 256]) torch.Size([2, 256])\n"
          ]
        }
      ]
    },
    {
      "cell_type": "code",
      "source": [
        "for x,y in val_dataloader:\n",
        "  print(x.shape, y.shape)"
      ],
      "metadata": {
        "id": "O-zaaRv1Htpn",
        "outputId": "c5a83750-2427-40db-8345-d5a41b6520b6",
        "colab": {
          "base_uri": "https://localhost:8080/"
        }
      },
      "execution_count": 25,
      "outputs": [
        {
          "output_type": "stream",
          "name": "stdout",
          "text": [
            "torch.Size([2, 256]) torch.Size([2, 256])\n"
          ]
        }
      ]
    },
    {
      "cell_type": "markdown",
      "metadata": {
        "id": "rrXpaWaK8rpA"
      },
      "source": [
        "There are 9 training set batches with shape `[2, 256]` (i.e two samples and 256 tokens each) and 1 validation batch with shape `[2, 256]`\n"
      ]
    },
    {
      "cell_type": "code",
      "execution_count": 26,
      "metadata": {
        "id": "IS18pOKh8rpB"
      },
      "outputs": [],
      "source": [
        "# cross entropy loss for a given batch\n",
        "def calc_loss_batch(input_batch, target_batch, model, device):\n",
        "    input_batch = input_batch.to(device)\n",
        "    target_batch = target_batch.to(device)\n",
        "\n",
        "    logits = model(input_batch)\n",
        "    loss = F.cross_entropy(logits.flatten(0,1), target_batch.flatten())\n",
        "    return loss"
      ]
    },
    {
      "cell_type": "code",
      "execution_count": 27,
      "metadata": {
        "id": "uPovecGV8rpB"
      },
      "outputs": [],
      "source": [
        "# computing loss over all the batches\n",
        "# using num_batches so that we can specify lesser number of batches\n",
        "\n",
        "def calc_loss_loader(data_loader, model, device, num_batches=None):\n",
        "    total_loss = 0\n",
        "    if len(data_loader) ==0:\n",
        "        return float('nan')\n",
        "    elif num_batches is None:\n",
        "        num_batches = len(data_loader)\n",
        "    else:\n",
        "        num_batches = min(num_batches, len(data_loader))\n",
        "\n",
        "    for i, (input_batch, target_batch) in enumerate(data_loader):\n",
        "        if i< num_batches:\n",
        "            loss = calc_loss_batch(input_batch, target_batch, model, device)\n",
        "            total_loss += loss.item()\n",
        "        else:\n",
        "            break\n",
        "    return total_loss/num_batches #avg loss\n"
      ]
    },
    {
      "cell_type": "code",
      "execution_count": 28,
      "metadata": {
        "id": "2NWvs4IJ8rpC",
        "outputId": "48dec73a-d98f-4d17-be82-e77a4764cb6a",
        "colab": {
          "base_uri": "https://localhost:8080/"
        }
      },
      "outputs": [
        {
          "output_type": "stream",
          "name": "stdout",
          "text": [
            "Training loss: 10.98758316040039\n",
            "Testing loss: 10.981104850769043\n"
          ]
        }
      ],
      "source": [
        "device = torch.device('cuda' if torch.cuda.is_available() else 'cpu')\n",
        "model.to(device)\n",
        "\n",
        "with torch.no_grad():\n",
        "    train_loss = calc_loss_loader(train_dataloader, model, device)\n",
        "    val_loss = calc_loss_loader(val_dataloader, model, device)\n",
        "\n",
        "print(f'Training loss: {train_loss}')\n",
        "print(f'Testing loss: {val_loss}')"
      ]
    },
    {
      "cell_type": "markdown",
      "metadata": {
        "id": "jWHTs1q-8rpE"
      },
      "source": [
        "the loss values are high as we haven't trained our model yet."
      ]
    },
    {
      "cell_type": "markdown",
      "metadata": {
        "id": "hQOx1rcs8rpE"
      },
      "source": [
        "#### Training function"
      ]
    },
    {
      "cell_type": "code",
      "execution_count": 36,
      "metadata": {
        "id": "6hqHK2w98rpE"
      },
      "outputs": [],
      "source": [
        "# function for pretraining llm\n",
        "\n",
        "def train_model_simple(model,train_dataloader, val_dataloader, optimizer,\n",
        "                       device, num_epochs, eval_freq, eval_iter, start_context,\n",
        "                       tokenizer):\n",
        "    train_losses, val_losses, track_tokens_seen = [],[],[]\n",
        "    tokens_seen, global_step = 0, -1\n",
        "\n",
        "    for epoch in range(num_epochs):\n",
        "        model.train()\n",
        "\n",
        "        for input_batch, target_batch in train_dataloader:\n",
        "            optimizer.zero_grad()\n",
        "            loss = calc_loss_batch(input_batch, target_batch, model, device)\n",
        "            loss.backward()\n",
        "            optimizer.step()\n",
        "            tokens_seen += input_batch.numel()\n",
        "            global_step +=1\n",
        "\n",
        "            # evaluation step\n",
        "            if global_step % eval_freq ==0:\n",
        "                train_loss, val_loss = evaluate_model(model, train_dataloader,\n",
        "                                                      val_dataloader, device,\n",
        "                                                      eval_iter)\n",
        "                train_losses.append(train_loss)\n",
        "                val_losses.append(val_loss)\n",
        "\n",
        "                track_tokens_seen.append(tokens_seen)\n",
        "                print(f'Epoch: {epoch+1} | Step: {global_step:06d}')\n",
        "                print(f'Train Loss: {train_loss:.3f} | Val Loss: {val_loss:.3f}')\n",
        "\n",
        "        # prints a sample text after each epoch\n",
        "        generate_and_print_sample(model, tokenizer, device, start_context)\n",
        "\n",
        "    return train_losses, val_losses, track_tokens_seen\n"
      ]
    },
    {
      "cell_type": "markdown",
      "metadata": {
        "id": "HwZOoPUi8rpF"
      },
      "source": [
        "`evaluate_model `->  prints train and val losses after each model update"
      ]
    },
    {
      "cell_type": "code",
      "execution_count": 37,
      "metadata": {
        "id": "aJrgSTBy8rpH"
      },
      "outputs": [],
      "source": [
        "def evaluate_model(model, train_loader, val_loader, device, eval_iter):\n",
        "    model.eval()\n",
        "    with torch.no_grad():\n",
        "        train_loss = calc_loss_loader(train_loader, model, device,\n",
        "                                      num_batches=eval_iter)\n",
        "        val_loss = calc_loss_loader(val_loader, model, device,\n",
        "                                    num_batches=eval_iter)\n",
        "\n",
        "        model.train()\n",
        "        return train_loss, val_loss"
      ]
    },
    {
      "cell_type": "markdown",
      "metadata": {
        "id": "dwUrtlG88rpH"
      },
      "source": [
        "`generate_and_print_sample`: takes a text snippet as input, converts into token_ids -> feeds it to the llm -> generate a text sample using `generate_text_simple`"
      ]
    },
    {
      "cell_type": "code",
      "execution_count": 40,
      "metadata": {
        "id": "1cedokkZ8rpR"
      },
      "outputs": [],
      "source": [
        "def generate_and_print_sample(model, tokenizer, device, start_context):\n",
        "    model.eval()\n",
        "    context_size = model.pos_emb.weight.shape[0]\n",
        "    encoded = text_to_token_ids(start_context, tokenizer).to(device)\n",
        "\n",
        "    with torch.no_grad():\n",
        "        token_ids = generate_text_simple(model, idx=encoded, max_new_tokens=50,\n",
        "                                         context_size=context_size)\n",
        "\n",
        "    decoded_text = token_ids_to_text(token_ids, tokenizer)\n",
        "    print(decoded_text.replace('\\n', ' '))\n",
        "    model.train()"
      ]
    },
    {
      "cell_type": "markdown",
      "metadata": {
        "id": "x1KRUP-J8rpS"
      },
      "source": [
        "Training a `GPTModel` for 10 epochs.\n",
        "\n",
        "optimizer: `AdamW`\n",
        "\n",
        "lr = `0.0004`\n",
        "\n",
        "weight_decay = `0.1`"
      ]
    },
    {
      "cell_type": "code",
      "execution_count": 41,
      "metadata": {
        "id": "0GwnAphv8rpT",
        "outputId": "4f9954b3-c88f-4664-ae63-5a898d715d61",
        "colab": {
          "base_uri": "https://localhost:8080/"
        }
      },
      "outputs": [
        {
          "output_type": "stream",
          "name": "stdout",
          "text": [
            "Epoch: 1 | Step: 000000\n",
            "Train Loss: 9.818 | Val Loss: 9.930\n",
            "Epoch: 1 | Step: 000005\n",
            "Train Loss: 8.066 | Val Loss: 8.336\n",
            "Every effort moves you,,,,,,,,,,,,.                                     \n",
            "Epoch: 2 | Step: 000010\n",
            "Train Loss: 6.623 | Val Loss: 7.053\n",
            "Epoch: 2 | Step: 000015\n",
            "Train Loss: 6.047 | Val Loss: 6.605\n",
            "Every effort moves you, and,, and,,,,,,, and,.                                   \n",
            "Epoch: 3 | Step: 000020\n",
            "Train Loss: 5.532 | Val Loss: 6.507\n",
            "Epoch: 3 | Step: 000025\n",
            "Train Loss: 5.399 | Val Loss: 6.389\n",
            "Every effort moves you, and to the to the of the to the, and I had. Gis, and, and, and, and, and, and I had the, and, and, and, and, and, and, and, and, and\n",
            "Epoch: 4 | Step: 000030\n",
            "Train Loss: 4.895 | Val Loss: 6.280\n",
            "Epoch: 4 | Step: 000035\n",
            "Train Loss: 4.648 | Val Loss: 6.304\n",
            "Every effort moves you.  \"I the picture.                    \"I\"I the picture\"I had the the honour of the picture and I had been the picture of\n",
            "Epoch: 5 | Step: 000040\n",
            "Train Loss: 4.023 | Val Loss: 6.165\n",
            "Every effort moves you know                                                 \n",
            "Epoch: 6 | Step: 000045\n",
            "Train Loss: 3.625 | Val Loss: 6.172\n",
            "Epoch: 6 | Step: 000050\n",
            "Train Loss: 3.045 | Val Loss: 6.144\n",
            "Every effort moves you know the was his a little the.  \"I had the last word.           \"Oh, and I had a little.   \"I looked, and I had a little of\n",
            "Epoch: 7 | Step: 000055\n",
            "Train Loss: 2.948 | Val Loss: 6.183\n",
            "Epoch: 7 | Step: 000060\n",
            "Train Loss: 2.230 | Val Loss: 6.128\n",
            "Every effort moves you know the picture to have been too--I felt, and Mrs.  \"I was no--and the fact, and that, and I was his pictures.  \"I looked up his pictures--and--because he was a little\n",
            "Epoch: 8 | Step: 000065\n",
            "Train Loss: 1.774 | Val Loss: 6.162\n",
            "Epoch: 8 | Step: 000070\n",
            "Train Loss: 1.475 | Val Loss: 6.229\n",
            "Every effort moves you?\"  \"Yes--I glanced after him, and uncertain.  \"I looked up, and the fact, and to see a smile behind his close grayish beard--as if he had the donkey. \"There were days when I\n",
            "Epoch: 9 | Step: 000075\n",
            "Train Loss: 1.135 | Val Loss: 6.268\n",
            "Epoch: 9 | Step: 000080\n",
            "Train Loss: 0.858 | Val Loss: 6.298\n",
            "Every effort moves you?\"  \"Yes--quite insensible to the fact with the last word.    \"I looked, and that, and I remember getting off a prodigious phrase about the honour being _mine_--because he's the first\n",
            "Epoch: 10 | Step: 000085\n",
            "Train Loss: 0.627 | Val Loss: 6.382\n",
            "Every effort moves you?\"  \"Yes--quite insensible to the irony. She wanted him vindicated--and by me!\"  He laughed again, and threw back his head to look up at the sketch of the donkey. \"There were days when I\n"
          ]
        }
      ],
      "source": [
        "torch.manual_seed(123)\n",
        "model = GPTModel(config=GPT_CONFIG_124M)\n",
        "\n",
        "model.to(device)\n",
        "optimizer = torch.optim.AdamW(model.parameters(), lr=0.0004, weight_decay = 0.1)\n",
        "\n",
        "num_epochs = 10\n",
        "train_losses, val_losses, token_seen = train_model_simple(\n",
        "    model,\n",
        "    train_dataloader,\n",
        "    val_dataloader,\n",
        "    optimizer,\n",
        "    device,\n",
        "    num_epochs,\n",
        "    eval_freq=5,\n",
        "    eval_iter=5,\n",
        "    start_context=\"Every effort moves you\",\n",
        "    tokenizer= tokenizer)"
      ]
    },
    {
      "cell_type": "markdown",
      "metadata": {
        "id": "Bag-P4Wo8rpT"
      },
      "source": [
        "Plotting Training and Validation losses"
      ]
    },
    {
      "cell_type": "code",
      "execution_count": 44,
      "metadata": {
        "id": "tk_w3jNC8rpT",
        "outputId": "6ba184df-4194-4892-af89-433e194df990",
        "colab": {
          "base_uri": "https://localhost:8080/",
          "height": 307
        }
      },
      "outputs": [
        {
          "output_type": "display_data",
          "data": {
            "text/plain": [
              "<Figure size 500x300 with 2 Axes>"
            ],
            "image/png": "[encoded data removed]"
          },
          "metadata": {}
        }
      ],
      "source": [
        "import matplotlib.pyplot as plt\n",
        "from matplotlib.ticker import MaxNLocator\n",
        "\n",
        "# MaxNLocator -> tries to select resonable num of ticks with integer values instead of decimel points\n",
        "\n",
        "\n",
        "def plot_losses(epochs_seen, tokens_seen, train_losses, val_losses):\n",
        "    fig, ax1 = plt.subplots(figsize =(5,3))\n",
        "    ax1.plot(epochs_seen, train_losses, label= 'Training Loss')\n",
        "    ax1.plot(epochs_seen, val_losses, linestyle ='-.', label = 'Validation Loss')\n",
        "\n",
        "    ax1.set_xlabel('Epochs')\n",
        "    ax1.set_ylabel('Loss')\n",
        "    ax1.legend(loc= 'upper right')\n",
        "\n",
        "    ax1.xaxis.set_major_locator(MaxNLocator(integer = True))\n",
        "    ax2 = ax1.twiny() # creates a twin x-axis (shared y-axis) for existing axis ax1\n",
        "\n",
        "    ax2.plot(token_seen, train_losses, alpha=0) # alpha = 0 -> invisible plot\n",
        "    ax2.set_xlabel('Tokens seen')\n",
        "    fig.tight_layout()\n",
        "    plt.show()\n",
        "\n",
        "\n",
        "\n",
        "epochs_tensor = torch.linspace(0, num_epochs, len(train_losses))\n",
        "plot_losses(epochs_tensor, token_seen, train_losses, val_losses)"
      ]
    },
    {
      "cell_type": "markdown",
      "source": [
        "It looks like our model is overfitting to the training data"
      ],
      "metadata": {
        "id": "ZVoHBVpkkEAC"
      }
    },
    {
      "cell_type": "markdown",
      "metadata": {
        "id": "yJhjPUce8rpU"
      },
      "source": [
        "#### Decoding Strategies\n",
        "ways to introduce randomness in the output.\n",
        "\n",
        "1. *temperature scaling*\n",
        "\n",
        "2. *top-k sampling*"
      ]
    },
    {
      "cell_type": "code",
      "execution_count": 49,
      "metadata": {
        "id": "4os5eAG58rpU",
        "outputId": "8879bd98-bc62-446b-b745-2806fc4785d5",
        "colab": {
          "base_uri": "https://localhost:8080/"
        }
      },
      "outputs": [
        {
          "output_type": "stream",
          "name": "stdout",
          "text": [
            "Output text: Every effort moves you?\"\n",
            "\n",
            "\"Yes--quite insensible to the irony. She wanted him vindicated--and by me!\"\n",
            "\n",
            "\n"
          ]
        }
      ],
      "source": [
        "# print output text using our pretrained model\n",
        "\n",
        "model.to('cpu')\n",
        "model.eval()\n",
        "\n",
        "tokenizer = tiktoken.get_encoding('gpt2')\n",
        "token_ids = generate_text_simple(model= model,\n",
        "                                 idx= text_to_token_ids('Every effort moves you', tokenizer),\n",
        "                                 max_new_tokens= 25,\n",
        "                                 context_size= GPT_CONFIG_124M['context_length'])\n",
        "\n",
        "\n",
        "print(f'Output text: {token_ids_to_text(token_ids, tokenizer)}')"
      ]
    },
    {
      "cell_type": "markdown",
      "metadata": {
        "id": "npehHEyQ8rpV"
      },
      "source": [
        "currently our pretrained llm will generate same output even if we run the above cell multiple times...keeping the `start_context` same."
      ]
    },
    {
      "cell_type": "markdown",
      "metadata": {
        "id": "9PxhvvUe8rpV"
      },
      "source": [
        "in `generate_text_simple` we are selecting token with max probability as next token...known as greddy decoding.\n",
        "\n",
        "now, we will use probabilistic sampling for next token selection using `torch.multinomial`"
      ]
    },
    {
      "cell_type": "code",
      "execution_count": 50,
      "metadata": {
        "id": "vu_AiBij8rpW",
        "outputId": "9083f73f-f3f0-405b-df0f-ab08af287598",
        "colab": {
          "base_uri": "https://localhost:8080/"
        }
      },
      "outputs": [
        {
          "output_type": "execute_result",
          "data": {
            "text/plain": [
              "('forward',\n",
              " tensor([6.0907e-02, 1.6313e-03, 1.0019e-04, 5.7212e-01, 3.4190e-03, 1.3257e-04,\n",
              "         1.0120e-04, 3.5758e-01, 4.0122e-03]))"
            ]
          },
          "metadata": {},
          "execution_count": 50
        }
      ],
      "source": [
        "# illustration\n",
        "\n",
        "import torch\n",
        "\n",
        "vocab ={\"closer\": 0,\n",
        "        \"every\": 1,\n",
        "        \"effort\": 2,\n",
        "        \"forward\": 3,\n",
        "        \"inches\": 4,\n",
        "        \"moves\": 5,\n",
        "        \"pizza\": 6,\n",
        "        \"toward\": 7,\n",
        "        \"you\": 8}\n",
        "\n",
        "inv_vocab = {v:k for k, v in vocab.items()}\n",
        "\n",
        "\n",
        "# let's say llm returns following next-token logits given start_context ='Every effort moves you'\n",
        "next_token_logits = torch.tensor([4.51, 0.89, -1.90, 6.75, 1.63, -1.62, -1.89, 6.28, 1.79])\n",
        "\n",
        "probas = torch.softmax(next_token_logits, dim=0)\n",
        "next_token_id = torch.argmax(probas).item()\n",
        "inv_vocab[next_token_id], probas"
      ]
    },
    {
      "cell_type": "markdown",
      "source": [
        "`.multinomial()`: to sample elements from a given probability distribution"
      ],
      "metadata": {
        "id": "FjlHFbE2mXHJ"
      }
    },
    {
      "cell_type": "code",
      "execution_count": 53,
      "metadata": {
        "id": "UulKiKpL8rpW",
        "outputId": "7ceab7d4-354b-4e00-e246-c8d88fe9e199",
        "colab": {
          "base_uri": "https://localhost:8080/",
          "height": 35
        }
      },
      "outputs": [
        {
          "output_type": "execute_result",
          "data": {
            "text/plain": [
              "'toward'"
            ],
            "application/vnd.google.colaboratory.intrinsic+json": {
              "type": "string"
            }
          },
          "metadata": {},
          "execution_count": 53
        }
      ],
      "source": [
        "# let's do the same using probabilistic sampling\n",
        "\n",
        "torch.manual_seed(123)\n",
        "next_token_id = torch.multinomial(probas, num_samples=1).item()\n",
        "inv_vocab[next_token_id]"
      ]
    },
    {
      "cell_type": "code",
      "execution_count": 54,
      "metadata": {
        "id": "tYZ13Yf_8rpX",
        "outputId": "1a9645bd-bcaa-4746-dbe0-e7aef95af23e",
        "colab": {
          "base_uri": "https://localhost:8080/"
        }
      },
      "outputs": [
        {
          "output_type": "stream",
          "name": "stdout",
          "text": [
            "71 X closer\n",
            "2 X every\n",
            "0 X effort\n",
            "544 X forward\n",
            "2 X inches\n",
            "1 X moves\n",
            "0 X pizza\n",
            "376 X toward\n",
            "4 X you\n"
          ]
        }
      ],
      "source": [
        "def print_sampled_tokens(probas):\n",
        "    torch.manual_seed(123)\n",
        "    sample = [torch.multinomial(probas, num_samples=1).item() for i in range(1_000)]  # 1_000 is same as 1000(just for better readability)\n",
        "\n",
        "    sampled_ids = torch.bincount(torch.tensor(sample)) # to count occurence\n",
        "\n",
        "    for i, freq in enumerate(sampled_ids):\n",
        "        print(f'{freq} X {inv_vocab[i]}')\n",
        "\n",
        "print_sampled_tokens(probas)"
      ]
    },
    {
      "cell_type": "markdown",
      "metadata": {
        "id": "Or3KXhzg8rpX"
      },
      "source": [
        "`temperature scaling` -> logits divided by some number > 0\n",
        "\n",
        "temperature scaling is used to calibrate the confidence of a classification model;s predicted probabilities\n",
        "\n",
        "1. T = 1, normal softmax\n",
        "2. T> 1, softens probas (dec confidence)\n",
        "3. T< 1, sharpens probas (inc confidence)"
      ]
    },
    {
      "cell_type": "code",
      "execution_count": 55,
      "metadata": {
        "id": "jajTa21G8rpY"
      },
      "outputs": [],
      "source": [
        "def softmax_with_temp(logits, temp):\n",
        "    scaled_logits = logits/temp\n",
        "    return torch.softmax(scaled_logits, dim=0)"
      ]
    },
    {
      "cell_type": "code",
      "execution_count": 59,
      "metadata": {
        "id": "NuRE1ZB68rpZ",
        "outputId": "44c67d7b-5363-49d3-fca2-7e95d95feeef",
        "colab": {
          "base_uri": "https://localhost:8080/",
          "height": 307
        }
      },
      "outputs": [
        {
          "output_type": "display_data",
          "data": {
            "text/plain": [
              "<Figure size 500x300 with 1 Axes>"
            ],
            "image/png": "[encoded data removed]"
          },
          "metadata": {}
        }
      ],
      "source": [
        "# illustration\n",
        "\n",
        "temps =[1,0.1,5]\n",
        "scaled_probas = [softmax_with_temp(next_token_logits, t) for t in temps]\n",
        "\n",
        "x = torch.arange(len(vocab))\n",
        "bar_width = 0.15\n",
        "\n",
        "fig, ax = plt.subplots(figsize= (5,3))\n",
        "for i, t in enumerate(temps):\n",
        "    rects = ax.bar(x+ i*bar_width, height=scaled_probas[i], width= bar_width,\n",
        "                   label= f'Temperature= {t}')\n",
        "\n",
        "ax.set_ylabel('Probability')\n",
        "ax.set_xticks(x)\n",
        "ax.set_xticklabels(vocab.keys(), rotation=90)\n",
        "ax.legend()\n",
        "plt.tight_layout()\n",
        "plt.show()"
      ]
    },
    {
      "cell_type": "markdown",
      "source": [
        "Higher temperature -> more uniformly distributed probabilities"
      ],
      "metadata": {
        "id": "fPHtXK9qoqac"
      }
    },
    {
      "cell_type": "markdown",
      "source": [
        "`Top-k Sampling` -> limits sampling to k most probable tokens and exclude all other tokens by masking their probability scores"
      ],
      "metadata": {
        "id": "Vr-qs_59o8tt"
      }
    },
    {
      "cell_type": "code",
      "execution_count": 62,
      "metadata": {
        "id": "wO6ovj6w8rpa",
        "outputId": "cd5c79e7-0881-420e-e081-6d2d536fa2ff",
        "colab": {
          "base_uri": "https://localhost:8080/"
        }
      },
      "outputs": [
        {
          "output_type": "stream",
          "name": "stdout",
          "text": [
            "topk logits tensor([6.7500, 6.2800, 4.5100])\n",
            "topk indices tensor([3, 7, 0])\n"
          ]
        }
      ],
      "source": [
        "top_k = 3\n",
        "topk_logits, topk_indices = torch.topk(next_token_logits, top_k)\n",
        "\n",
        "print('topk logits', topk_logits)\n",
        "print('topk indices', topk_indices)"
      ]
    },
    {
      "cell_type": "code",
      "source": [
        "# setting logits below the minimum topk_logits equal to -inf\n",
        "\n",
        "new_logits = torch.where(condition=next_token_logits < topk_logits.min(),\n",
        "                         input=torch.tensor(-float('inf')),\n",
        "                         other=next_token_logits)\n",
        "print(new_logits)"
      ],
      "metadata": {
        "id": "sCERmwcLqSIm",
        "outputId": "21a21406-c1ab-4519-9833-3b3abdf93461",
        "colab": {
          "base_uri": "https://localhost:8080/"
        }
      },
      "execution_count": 64,
      "outputs": [
        {
          "output_type": "stream",
          "name": "stdout",
          "text": [
            "tensor([4.5100,   -inf,   -inf, 6.7500,   -inf,   -inf,   -inf, 6.2800,   -inf])\n"
          ]
        }
      ]
    },
    {
      "cell_type": "code",
      "source": [
        "topk_probas = F.softmax(new_logits, dim=0)\n",
        "print(topk_probas)"
      ],
      "metadata": {
        "id": "A54Husruq5W5",
        "outputId": "fab3e425-9f52-4cf2-ad3a-cc014c7c686e",
        "colab": {
          "base_uri": "https://localhost:8080/"
        }
      },
      "execution_count": 65,
      "outputs": [
        {
          "output_type": "stream",
          "name": "stdout",
          "text": [
            "tensor([0.0615, 0.0000, 0.0000, 0.5775, 0.0000, 0.0000, 0.0000, 0.3610, 0.0000])\n"
          ]
        }
      ]
    },
    {
      "cell_type": "markdown",
      "source": [
        "Now we can apply temperature scaling and multinomial function on these topk_probas"
      ],
      "metadata": {
        "id": "UeW3_2UyrHa1"
      }
    },
    {
      "cell_type": "code",
      "source": [
        "# modify the generate_text_simple function\n",
        "\n",
        "def generate(model,idx, max_new_tokens, context_size, temp=0.0,\n",
        "             top_k = None, eos_id = None):\n",
        "  for _ in range(max_new_tokens):\n",
        "        # crops the current context(initial tokens) to fit model's max context size\n",
        "        idx_cond = idx[:,-context_size:]\n",
        "        with torch.no_grad():\n",
        "            logits = model(idx_cond)  # shape (batch, n_token, vocab_size)\n",
        "\n",
        "        logits = logits[:, -1, :]  # to extracts the last vector, shape -> (batch, vocab_size)\n",
        "\n",
        "        if top_k is not None:\n",
        "          topk_logits, _= torch.topk(logits, top_k)\n",
        "          logits = torch.where(condition=logits < topk_logits.min(),\n",
        "                               input=torch.tensor(-float('inf')).to(logits.device),\n",
        "                               other=logits)\n",
        "\n",
        "        if temp >0.0:\n",
        "          logits = logits/temp\n",
        "          probs = F.softmax(logits, dim=-1)\n",
        "          idx_next = torch.multinomial(probs, num_samples=1)\n",
        "        else:\n",
        "          idx_next = torch.argmax(logits, dim=-1, keepdim=True)\n",
        "\n",
        "        if eos_id is not None and idx_next == eos_id:\n",
        "          break\n",
        "\n",
        "        idx = torch.cat((idx, idx_next), dim=1)\n",
        "  return idx\n"
      ],
      "metadata": {
        "id": "2qDFRN7zrCU5"
      },
      "execution_count": 66,
      "outputs": []
    },
    {
      "cell_type": "code",
      "source": [
        "torch.manual_seed(123)\n",
        "token_ids = generate(\n",
        "    model= model,\n",
        "    idx= text_to_token_ids('Every effort moves you', tokenizer),\n",
        "    max_new_tokens= 20,\n",
        "    context_size= GPT_CONFIG_124M['context_length'],\n",
        "    top_k=30,\n",
        "    temp= 1.5,\n",
        ")\n",
        "\n",
        "print(f'Output Text: \\n {token_ids_to_text(token_ids, tokenizer)}')"
      ],
      "metadata": {
        "id": "86XefeqEtS8W",
        "outputId": "88e6e029-984f-489f-abd1-13b933286874",
        "colab": {
          "base_uri": "https://localhost:8080/"
        }
      },
      "execution_count": 78,
      "outputs": [
        {
          "output_type": "stream",
          "name": "stdout",
          "text": [
            "Output Text: \n",
            " Every effort moves you know began to happen a hint a little it was such a good; and watched at the end would\n"
          ]
        }
      ]
    },
    {
      "cell_type": "markdown",
      "source": [
        "#### Saving and loading the model"
      ],
      "metadata": {
        "id": "XQmRlcIguiS9"
      }
    },
    {
      "cell_type": "code",
      "source": [
        "torch.save(model.state_dict(), 'pretrained_gpt2_model.pth')"
      ],
      "metadata": {
        "id": "2XT3eH_7tw74"
      },
      "execution_count": 81,
      "outputs": []
    },
    {
      "cell_type": "code",
      "source": [
        "import os\n",
        "\n",
        "file_path = \"pretrained_gpt2_model.pth\"\n",
        "size_in_bytes = os.path.getsize(file_path)\n",
        "print(f\"File size: {size_in_bytes/(1024*1024)} MB\")\n"
      ],
      "metadata": {
        "id": "WKsncS_yu0xv",
        "outputId": "9143c8c3-1312-4496-f819-1dc11b217d52",
        "colab": {
          "base_uri": "https://localhost:8080/"
        }
      },
      "execution_count": 84,
      "outputs": [
        {
          "output_type": "stream",
          "name": "stdout",
          "text": [
            "File size: 622.6430110931396 MB\n"
          ]
        }
      ]
    },
    {
      "cell_type": "code",
      "source": [
        "# loading the model\n",
        "\n",
        "model= GPTModel(config=GPT_CONFIG_124M)\n",
        "model.load_state_dict(torch.load('pretrained_gpt2_model.pth',map_location= device))\n",
        "model.eval();"
      ],
      "metadata": {
        "id": "mWooN2mavLa7"
      },
      "execution_count": 89,
      "outputs": []
    },
    {
      "cell_type": "code",
      "source": [
        "# saving model and optimizer both\n",
        "torch.save({\n",
        "    'model_state_dict': model.state_dict(),\n",
        "    'optimizer_state_dict': optimizer.state_dict()\n",
        "}, 'model_and_optimizer.pth')"
      ],
      "metadata": {
        "id": "idyXJzY8v43E"
      },
      "execution_count": 87,
      "outputs": []
    },
    {
      "cell_type": "code",
      "source": [
        "# loading model and optimizer\n",
        "\n",
        "checkpoint = torch.load('model_and_optimizer.pth', map_location=device)\n",
        "model = GPTModel(GPT_CONFIG_124M)\n",
        "model.load_state_dict(checkpoint['model_state_dict'])\n",
        "\n",
        "optimizer = torch.optim.AdamW(model.parameters(), lr=0.0004, weight_decay=0.1)\n",
        "optimizer.load_state_dict(checkpoint['optimizer_state_dict'])\n",
        "\n",
        "model.train();"
      ],
      "metadata": {
        "id": "YABKyhtawSFb"
      },
      "execution_count": 88,
      "outputs": []
    },
    {
      "cell_type": "code",
      "source": [],
      "metadata": {
        "id": "jM3fQAzKwqEF"
      },
      "execution_count": null,
      "outputs": []
    }
  ],
  "metadata": {
    "kernelspec": {
      "display_name": "Python 3",
      "name": "python3"
    },
    "language_info": {
      "codemirror_mode": {
        "name": "ipython",
        "version": 3
      },
      "file_extension": ".py",
      "mimetype": "text/x-python",
      "name": "python",
      "nbconvert_exporter": "python",
      "pygments_lexer": "ipython3",
      "version": "3.10.12"
    },
    "colab": {
      "provenance": [],
      "gpuType": "T4",
      "include_colab_link": true
    },
    "accelerator": "GPU"
  },
  "nbformat": 4,
  "nbformat_minor": 0
}