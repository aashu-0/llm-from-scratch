{
 "cells": [
  {
   "cell_type": "markdown",
   "metadata": {},
   "source": [
    "#### text to tokens"
   ]
  },
  {
   "cell_type": "code",
   "execution_count": 2,
   "metadata": {},
   "outputs": [
    {
     "name": "stdout",
     "output_type": "stream",
     "text": [
      "total number of chars: 20479\n",
      "I HAD always thought Jack Gisburn rather a cheap genius--though a good fellow enough--so it was no \n"
     ]
    }
   ],
   "source": [
    "with open ('the-verdict.txt', 'r', encoding= 'utf-8' ) as f:\n",
    "    raw_text = f.read()\n",
    "\n",
    "print(f'total number of chars: {len(raw_text)}')\n",
    "print(raw_text[:99])"
   ]
  },
  {
   "cell_type": "code",
   "execution_count": 3,
   "metadata": {},
   "outputs": [
    {
     "name": "stdout",
     "output_type": "stream",
     "text": [
      "['Hello,', ' ', 'world.', ' ', 'This,', ' ', 'is', ' ', 'a', ' ', 'test.']\n"
     ]
    }
   ],
   "source": [
    "# splitting char on whitespace (\\s)\n",
    "import re\n",
    "text = 'Hello, world. This, is a test.'\n",
    "result = re.split(r'(\\s)', text)\n",
    "print(result)"
   ]
  },
  {
   "cell_type": "code",
   "execution_count": 4,
   "metadata": {},
   "outputs": [
    {
     "data": {
      "text/plain": [
       "['Hello,', 'world.', 'This,', 'is', 'a', 'test.']"
      ]
     },
     "execution_count": 4,
     "metadata": {},
     "output_type": "execute_result"
    }
   ],
   "source": [
    "# we can remove the whitespace also\n",
    "result = [item for item in result if item.split()]\n",
    "result"
   ]
  },
  {
   "cell_type": "code",
   "execution_count": 5,
   "metadata": {},
   "outputs": [
    {
     "name": "stdout",
     "output_type": "stream",
     "text": [
      "['Hello', ',', 'world', '.', 'This', ',', 'is', 'a', 'test', '.']\n"
     ]
    }
   ],
   "source": [
    "# we can include the , . also\n",
    "result = re.split(r'([,.]|\\s)', text)\n",
    "\n",
    "#remove whitespace\n",
    "result = [item for item in result if item.strip()]\n",
    "print(result)"
   ]
  },
  {
   "cell_type": "code",
   "execution_count": 6,
   "metadata": {},
   "outputs": [],
   "source": [
    "# t1 = 'dark is one of the best show i have ever watched'\n",
    "# t1.strip()\n",
    "# print(t1)"
   ]
  },
  {
   "cell_type": "code",
   "execution_count": 7,
   "metadata": {},
   "outputs": [
    {
     "name": "stdout",
     "output_type": "stream",
     "text": [
      "4690\n"
     ]
    }
   ],
   "source": [
    "# include all the punctations and apply to our text \n",
    "preprocessed = re.split(r'([,.;:?_!\"()\\']|--|\\s)', raw_text)\n",
    "\n",
    "preprocessed = [item for item in preprocessed if item.strip()]\n",
    "print(len(preprocessed))"
   ]
  },
  {
   "cell_type": "code",
   "execution_count": 8,
   "metadata": {},
   "outputs": [
    {
     "name": "stdout",
     "output_type": "stream",
     "text": [
      "['I', 'HAD', 'always', 'thought', 'Jack', 'Gisburn', 'rather', 'a', 'cheap', 'genius', '--', 'though', 'a', 'good', 'fellow', 'enough', '--', 'so', 'it', 'was', 'no', 'great', 'surprise', 'to', 'me', 'to', 'hear', 'that', ',', 'in', 'the', 'height', 'of', 'his', 'glory', ',', 'he', 'had', 'dropped', 'his']\n"
     ]
    }
   ],
   "source": [
    "print(preprocessed[:40])"
   ]
  },
  {
   "cell_type": "markdown",
   "metadata": {},
   "source": [
    "#### tokens to token IDs"
   ]
  },
  {
   "cell_type": "markdown",
   "metadata": {},
   "source": [
    " in order to convert tokens to tokens ids,\n",
    " \n",
    " we first have to have a vocabulary to map words to int"
   ]
  },
  {
   "cell_type": "markdown",
   "metadata": {},
   "source": [
    "Creating a vocabulary"
   ]
  },
  {
   "cell_type": "code",
   "execution_count": 9,
   "metadata": {},
   "outputs": [
    {
     "data": {
      "text/plain": [
       "1130"
      ]
     },
     "execution_count": 9,
     "metadata": {},
     "output_type": "execute_result"
    }
   ],
   "source": [
    "# vocab\n",
    "\n",
    "all_words = sorted(set(preprocessed)) #set: for unique char\n",
    "vocab_size = len(all_words)\n",
    "vocab_size"
   ]
  },
  {
   "cell_type": "code",
   "execution_count": 10,
   "metadata": {},
   "outputs": [
    {
     "name": "stdout",
     "output_type": "stream",
     "text": [
      "('!', 0)\n",
      "('\"', 1)\n",
      "(\"'\", 2)\n",
      "('(', 3)\n",
      "(')', 4)\n",
      "(',', 5)\n",
      "('--', 6)\n",
      "('.', 7)\n",
      "(':', 8)\n",
      "(';', 9)\n",
      "('?', 10)\n",
      "('A', 11)\n",
      "('Ah', 12)\n",
      "('Among', 13)\n",
      "('And', 14)\n",
      "('Are', 15)\n",
      "('Arrt', 16)\n",
      "('As', 17)\n",
      "('At', 18)\n",
      "('Be', 19)\n",
      "('Begin', 20)\n",
      "('Burlington', 21)\n"
     ]
    }
   ],
   "source": [
    "vocab = {token: int for int, token in enumerate(all_words)}\n",
    "for i, item in enumerate(vocab.items()):\n",
    "    print(item)\n",
    "    if i >20:\n",
    "        break"
   ]
  },
  {
   "cell_type": "markdown",
   "metadata": {},
   "source": [
    "#### Simple Tokenizer"
   ]
  },
  {
   "cell_type": "markdown",
   "metadata": {},
   "source": [
    "let's functionize all this\n",
    "- first encode method to convert text to token ids (text -> tokens -> token ids)\n",
    "\n",
    "- and a decode method to convert token ids back to  text"
   ]
  },
  {
   "cell_type": "markdown",
   "metadata": {},
   "source": [
    "Regex Pattern\n",
    "- `\\s+`: one or more whitespaces\n",
    "- `[,.;:?_!\"()\\']`: matches any of `, . ? ! \" ( ) '`"
   ]
  },
  {
   "cell_type": "code",
   "execution_count": 11,
   "metadata": {},
   "outputs": [],
   "source": [
    "# implementing a simple text tokenizer\n",
    "\n",
    "class SimpleTokenizerV1():\n",
    "    def __init__(self, vocab):\n",
    "        self.str_to_int = vocab\n",
    "        self.int_to_str = {i:s for s, i in vocab.items()}\n",
    "\n",
    "    def encode(self, text):\n",
    "        preprocessed = re.split(r'([,.;:?_!\"()\\']|--|\\s)', text)\n",
    "        preprocessed = [item.strip() for item in preprocessed if item.strip()]\n",
    "\n",
    "        ids = [self.str_to_int[s] for s in preprocessed]\n",
    "        return ids\n",
    "\n",
    "    def decode(self, ids):\n",
    "        text = \" \".join([self.int_to_str[i] for i in ids])\n",
    "        text = re.sub(r'\\s+([,.?!\"()\\'])', r'\\1', text)   # removes the unnecessary spaces before punctuation\n",
    "        return text"
   ]
  },
  {
   "cell_type": "code",
   "execution_count": 12,
   "metadata": {},
   "outputs": [
    {
     "name": "stdout",
     "output_type": "stream",
     "text": [
      "[53, 44, 149, 1003, 57, 38, 818, 115, 256, 486, 1002, 115, 500, 435, 392, 908, 585, 1077, 709, 7, 56, 2, 850, 663]\n"
     ]
    }
   ],
   "source": [
    "# let's do it for a example text\n",
    "tokenizer = SimpleTokenizerV1(vocab)\n",
    "text = \"\"\"I HAD always thought Jack Gisburn rather a cheap genius though a\n",
    "good fellow enough so it was no. It's me\"\"\"\n",
    "\n",
    "ids = tokenizer.encode(text)\n",
    "print(ids)"
   ]
  },
  {
   "cell_type": "code",
   "execution_count": 13,
   "metadata": {},
   "outputs": [
    {
     "data": {
      "text/plain": [
       "\"I HAD always thought Jack Gisburn rather a cheap genius though a good fellow enough so it was no. It' s me\""
      ]
     },
     "execution_count": 13,
     "metadata": {},
     "output_type": "execute_result"
    }
   ],
   "source": [
    "tokenizer.decode(ids)"
   ]
  },
  {
   "cell_type": "markdown",
   "metadata": {},
   "source": [
    "keep in mind that our vocabulary is limited to \"The Verdict\" txt file.\n",
    "\n",
    "we will not able to tokenize any word outside our training set..here the short story"
   ]
  },
  {
   "cell_type": "code",
   "execution_count": 14,
   "metadata": {},
   "outputs": [],
   "source": [
    "# ex\n",
    "# txt = \"Hello, aashutosh\"\n",
    "# print(tokenizer.encode(txt))   # -> raise a KeyError\n"
   ]
  },
  {
   "cell_type": "markdown",
   "metadata": {},
   "source": [
    "#### Special Tokens"
   ]
  },
  {
   "cell_type": "markdown",
   "metadata": {},
   "source": [
    "we can (or should) extend our vocab with additional tokens like \n",
    "```<startoftext>, <endoftext>, <unk>``` etc\n",
    "\n",
    "/ these special tokens are different for different llms"
   ]
  },
  {
   "cell_type": "code",
   "execution_count": 15,
   "metadata": {},
   "outputs": [
    {
     "name": "stdout",
     "output_type": "stream",
     "text": [
      "1132\n"
     ]
    }
   ],
   "source": [
    "# modify of vocab to include two special tokens -> <|unk|>, <|endoftext|>\n",
    "\n",
    "all_tokens = sorted(list(set(preprocessed)))\n",
    "all_tokens.extend(['<|unk|>', '<|endoftext|>'])\n",
    "\n",
    "vocab = {token:integer for integer, token in enumerate(all_tokens)}\n",
    "\n",
    "print(len(vocab.items()))"
   ]
  },
  {
   "cell_type": "markdown",
   "metadata": {},
   "source": [
    "1130 + 2 special tokens"
   ]
  },
  {
   "cell_type": "code",
   "execution_count": 16,
   "metadata": {},
   "outputs": [
    {
     "data": {
      "text/plain": [
       "[('younger', 1127),\n",
       " ('your', 1128),\n",
       " ('yourself', 1129),\n",
       " ('<|unk|>', 1130),\n",
       " ('<|endoftext|>', 1131)]"
      ]
     },
     "execution_count": 16,
     "metadata": {},
     "output_type": "execute_result"
    }
   ],
   "source": [
    "list(vocab.items())[-5:]"
   ]
  },
  {
   "cell_type": "code",
   "execution_count": 17,
   "metadata": {},
   "outputs": [],
   "source": [
    "# Tokenizer class that includes special tokens\n",
    "\n",
    "class SimpleTokenizerV2():\n",
    "    def __init__(self, vocab):\n",
    "        self.str_to_int = vocab\n",
    "        self.int_to_str = {i:s for s, i in vocab.items()}\n",
    "\n",
    "    def encode(self, text):\n",
    "        preprocessed = re.split(r'([,.;:?_!\"()\\']|--|\\s)', text)\n",
    "        preprocessed = [item.strip() for item in preprocessed if item.strip()]\n",
    "\n",
    "        preprocessed = [item if item in self.str_to_int\n",
    "                        else '<|unk|>' for item in preprocessed]\n",
    "\n",
    "        ids = [self.str_to_int[s] for s in preprocessed]\n",
    "        return ids\n",
    "\n",
    "    def decode(self, ids):\n",
    "        text = \" \".join([self.int_to_str[i] for i in ids])\n",
    "\n",
    "        text = re.sub(r'\\s+([,.?!\"()\\'])', r'\\1', text)\n",
    "        return text"
   ]
  },
  {
   "cell_type": "code",
   "execution_count": 18,
   "metadata": {},
   "outputs": [
    {
     "name": "stdout",
     "output_type": "stream",
     "text": [
      "Hello On reflection, it really was a tempting problem. <|endoftext|> To accuse his wife would have been too easy--In India\n"
     ]
    }
   ],
   "source": [
    "txt1 = 'Hello On reflection, it really was a tempting problem.'\n",
    "txt2 = 'To accuse his wife would have been too easy--In India'\n",
    "\n",
    "txt = ' <|endoftext|> '.join((txt1, txt2))\n",
    "print(txt)"
   ]
  },
  {
   "cell_type": "code",
   "execution_count": 19,
   "metadata": {},
   "outputs": [
    {
     "name": "stdout",
     "output_type": "stream",
     "text": [
      "[1130, 75, 828, 5, 585, 821, 1077, 115, 981, 796, 7, 1131, 102, 125, 549, 1103, 1120, 530, 208, 1020, 375, 6, 55, 1130]\n"
     ]
    }
   ],
   "source": [
    "tokenizer = SimpleTokenizerV2(vocab=vocab)\n",
    "ids = tokenizer.encode(txt)\n",
    "print(ids)"
   ]
  },
  {
   "cell_type": "code",
   "execution_count": 20,
   "metadata": {},
   "outputs": [
    {
     "data": {
      "text/plain": [
       "'<|unk|> On reflection, it really was a tempting problem. <|endoftext|> To accuse his wife would have been too easy -- In <|unk|>'"
      ]
     },
     "execution_count": 20,
     "metadata": {},
     "output_type": "execute_result"
    }
   ],
   "source": [
    "tokenizer.decode(ids=ids)"
   ]
  },
  {
   "cell_type": "markdown",
   "metadata": {},
   "source": [
    "additional special tokens\n",
    "```[BOS], [EOS], [PAD]```"
   ]
  },
  {
   "cell_type": "markdown",
   "metadata": {},
   "source": [
    "#### BPE"
   ]
  },
  {
   "cell_type": "markdown",
   "metadata": {},
   "source": [
    "GPT models use a *byte pair encoding* tokenizer\n",
    "\n",
    "How BTE handles unknown words?\n",
    "- break down the unk word into characers and subwords, and these subwords can then tokenized.\n",
    "- so we can assign multiple token ids to a single words.\n",
    "- no need of <|unk|> token to handle unknwn words"
   ]
  },
  {
   "cell_type": "markdown",
   "metadata": {},
   "source": [
    "we will use a library called tiktoken\n",
    "Why tiktoken?\n",
    "- efficient (written in Rust)\n",
    "- optimized for openai models"
   ]
  },
  {
   "cell_type": "markdown",
   "metadata": {},
   "source": [
    "**BPE in a nutshell**\n",
    "- start with individual characters\n",
    "- find the most common pair\n",
    "- merge it to the vocab\n",
    "- keep repeating"
   ]
  },
  {
   "cell_type": "code",
   "execution_count": 21,
   "metadata": {},
   "outputs": [
    {
     "name": "stdout",
     "output_type": "stream",
     "text": [
      "tiktoken version: 0.7.0\n"
     ]
    }
   ],
   "source": [
    "from importlib.metadata import version\n",
    "import tiktoken\n",
    "print(\"tiktoken version:\", version(\"tiktoken\"))"
   ]
  },
  {
   "cell_type": "code",
   "execution_count": 22,
   "metadata": {},
   "outputs": [],
   "source": [
    "tokenizer = tiktoken.get_encoding('gpt2')"
   ]
  },
  {
   "cell_type": "code",
   "execution_count": 23,
   "metadata": {},
   "outputs": [],
   "source": [
    "text = ( \"Hello, do you like tea? <|endoftext|> In the sunlit terraces\"\n",
    "        \"of someunknownPlace.\")"
   ]
  },
  {
   "cell_type": "code",
   "execution_count": 24,
   "metadata": {},
   "outputs": [
    {
     "name": "stdout",
     "output_type": "stream",
     "text": [
      "[15496, 11, 466, 345, 588, 8887, 30, 220, 50256, 554, 262, 4252, 18250, 8812, 2114, 1659, 617, 34680, 27271, 13]\n"
     ]
    }
   ],
   "source": [
    "integers = tokenizer.encode(text, allowed_special = {'<|endoftext|>'})\n",
    "print(integers)"
   ]
  },
  {
   "cell_type": "code",
   "execution_count": 25,
   "metadata": {},
   "outputs": [
    {
     "name": "stdout",
     "output_type": "stream",
     "text": [
      "Hello, do you like tea? <|endoftext|> In the sunlit terracesof someunknownPlace.\n"
     ]
    }
   ],
   "source": [
    "strings = tokenizer.decode(integers)\n",
    "print(strings)"
   ]
  },
  {
   "cell_type": "code",
   "execution_count": 26,
   "metadata": {},
   "outputs": [
    {
     "name": "stdout",
     "output_type": "stream",
     "text": [
      "Ak -> 33901\n",
      "w -> 86\n",
      "ir -> 343\n",
      "w -> 86\n",
      "  -> 220\n",
      "ier -> 959\n"
     ]
    }
   ],
   "source": [
    "str = 'Akwirw ier'\n",
    "ids = tokenizer.encode(str)\n",
    "\n",
    "for id in ids:\n",
    "    print(f'{tokenizer.decode([id])} -> {id}')"
   ]
  },
  {
   "cell_type": "markdown",
   "metadata": {},
   "source": [
    "#### Data Sampling using Sliding window -> generating input-target pairs"
   ]
  },
  {
   "cell_type": "code",
   "execution_count": 27,
   "metadata": {},
   "outputs": [
    {
     "name": "stdout",
     "output_type": "stream",
     "text": [
      "5145\n"
     ]
    }
   ],
   "source": [
    "enc_text = tokenizer.encode(raw_text)\n",
    "print(len(enc_text))"
   ]
  },
  {
   "cell_type": "code",
   "execution_count": 28,
   "metadata": {},
   "outputs": [],
   "source": [
    "enc_sample = enc_text[50:]"
   ]
  },
  {
   "cell_type": "markdown",
   "metadata": {},
   "source": [
    "we will create input-target pairs for the next word prediction task\n",
    "- x -> input tokens\n",
    "- y -> targets"
   ]
  },
  {
   "cell_type": "code",
   "execution_count": 29,
   "metadata": {},
   "outputs": [
    {
     "name": "stdout",
     "output_type": "stream",
     "text": [
      "x : [290, 4920, 2241, 287]\n",
      "y:       [4920, 2241, 287, 257]\n"
     ]
    }
   ],
   "source": [
    "context_size = 4  # max number of token in the input\n",
    "x = enc_sample[:context_size]\n",
    "y = enc_sample[1:context_size+1]\n",
    "\n",
    "print(f'x : {x}')\n",
    "print(f'y:       {y}')"
   ]
  },
  {
   "cell_type": "code",
   "execution_count": 30,
   "metadata": {},
   "outputs": [
    {
     "name": "stdout",
     "output_type": "stream",
     "text": [
      "Input Token --> Target Token\n",
      "[290] --> 4920\n",
      "[290, 4920] --> 2241\n",
      "[290, 4920, 2241] --> 287\n",
      "[290, 4920, 2241, 287] --> 257\n"
     ]
    }
   ],
   "source": [
    "# inputs and targets tokens\n",
    "print(f'Input Token --> Target Token')\n",
    "for i in range(1, context_size+1):\n",
    "    context = enc_sample[:i]\n",
    "    desired = enc_sample[i]\n",
    "    print(f'{context} --> {desired}')"
   ]
  },
  {
   "cell_type": "code",
   "execution_count": 31,
   "metadata": {},
   "outputs": [
    {
     "name": "stdout",
     "output_type": "stream",
     "text": [
      "Input text --> Target text\n",
      " and -->  established\n",
      " and established -->  himself\n",
      " and established himself -->  in\n",
      " and established himself in -->  a\n"
     ]
    }
   ],
   "source": [
    "print(f'Input text --> Target text')\n",
    "for i in range(1, context_size+1):\n",
    "    context = enc_sample[:i]\n",
    "    desired = enc_sample[i]\n",
    "    print(f'{tokenizer.decode(context)} --> {tokenizer.decode([desired])}')"
   ]
  },
  {
   "cell_type": "markdown",
   "metadata": {},
   "source": [
    "#### Custom pytorch dataset and dataloader\n",
    "- `Dataset` -> manages dataset\n",
    "- `Dataloader` -> feeds data into batches"
   ]
  },
  {
   "cell_type": "code",
   "execution_count": 32,
   "metadata": {},
   "outputs": [],
   "source": [
    "import torch\n",
    "import torch.nn as nn\n",
    "from torch.utils.data import Dataset, DataLoader\n",
    "\n",
    "\n",
    "# 1. custom dataset\n",
    "class GPTDatasetV1(Dataset):\n",
    "    def __init__(self, txt, tokenizer, max_length, stride):\n",
    "        self.inputs_ids = []\n",
    "        self.target_ids = []\n",
    "\n",
    "        # tokenize the text\n",
    "        token_ids = tokenizer.encode(txt)\n",
    "\n",
    "        #uses a sliding window approach\n",
    "        for i in range(0, len(token_ids) - max_length, stride):\n",
    "            input_chunk = token_ids[i: i+max_length]\n",
    "            target_chunk = token_ids[i+1: i+1+max_length]\n",
    "\n",
    "            self.inputs_ids.append(torch.tensor(input_chunk))\n",
    "            self.target_ids.append(torch.tensor(target_chunk))\n",
    "\n",
    "    # return total num of rows in the dataset\n",
    "    def __len__(self):\n",
    "        return len(self.inputs_ids)\n",
    "    \n",
    "    # return a single row\n",
    "    def __getitem__(self, index):\n",
    "        return self.inputs_ids[index], self.target_ids[index]\n"
   ]
  },
  {
   "cell_type": "code",
   "execution_count": 33,
   "metadata": {},
   "outputs": [],
   "source": [
    "#2. custom dataloader\n",
    "def create_dataloders_v1(txt,\n",
    "                         batch_size=4,\n",
    "                         max_length= 256,\n",
    "                         stride= 128,  # stride -> num of positions the input shift across batches\n",
    "                         shuffle= True,\n",
    "                         drop_last = True,\n",
    "                         num_workers = 0):\n",
    "    tokenizer = tiktoken.get_encoding('gpt2')\n",
    "    dataset = GPTDatasetV1(txt, tokenizer, max_length, stride)\n",
    "\n",
    "    dataloader = DataLoader(dataset,\n",
    "                            batch_size,\n",
    "                            shuffle=shuffle,\n",
    "                            drop_last=drop_last, # drops the last batch if it is shorter than the batch_size\n",
    "                            num_workers=num_workers)\n",
    "    \n",
    "    return dataloader"
   ]
  },
  {
   "cell_type": "code",
   "execution_count": 34,
   "metadata": {},
   "outputs": [
    {
     "name": "stdout",
     "output_type": "stream",
     "text": [
      "[tensor([[  40,  367, 2885, 1464]]), tensor([[ 367, 2885, 1464, 1807]])]\n"
     ]
    }
   ],
   "source": [
    "dataloader = create_dataloders_v1(raw_text,\n",
    "                                  batch_size=1,\n",
    "                                  max_length=4,\n",
    "                                  stride=1,\n",
    "                                  shuffle=False)\n",
    "\n",
    "data_iter = iter(dataloader)\n",
    "first_batch = next(data_iter)\n",
    "print(first_batch)"
   ]
  },
  {
   "cell_type": "code",
   "execution_count": 35,
   "metadata": {},
   "outputs": [
    {
     "name": "stdout",
     "output_type": "stream",
     "text": [
      "[tensor([[ 367, 2885, 1464, 1807]]), tensor([[2885, 1464, 1807, 3619]])]\n"
     ]
    }
   ],
   "source": [
    "second_batch = next(data_iter)\n",
    "print(second_batch)"
   ]
  },
  {
   "cell_type": "code",
   "execution_count": 36,
   "metadata": {},
   "outputs": [
    {
     "name": "stdout",
     "output_type": "stream",
     "text": [
      "Inputs: \n",
      " tensor([[   40,   367,  2885,  1464],\n",
      "        [ 1807,  3619,   402,   271],\n",
      "        [10899,  2138,   257,  7026],\n",
      "        [15632,   438,  2016,   257],\n",
      "        [  922,  5891,  1576,   438],\n",
      "        [  568,   340,   373,   645],\n",
      "        [ 1049,  5975,   284,   502],\n",
      "        [  284,  3285,   326,    11]])\n",
      "\n",
      "Targets: \n",
      " tensor([[  367,  2885,  1464,  1807],\n",
      "        [ 3619,   402,   271, 10899],\n",
      "        [ 2138,   257,  7026, 15632],\n",
      "        [  438,  2016,   257,   922],\n",
      "        [ 5891,  1576,   438,   568],\n",
      "        [  340,   373,   645,  1049],\n",
      "        [ 5975,   284,   502,   284],\n",
      "        [ 3285,   326,    11,   287]])\n"
     ]
    }
   ],
   "source": [
    "# batch size greater than 1\n",
    "dataloader = create_dataloders_v1(raw_text,\n",
    "                                  batch_size=8,\n",
    "                                  max_length=4,\n",
    "                                  stride=4,  # stride = max_length (to avoid overlap since more overlap => overfitting)\n",
    "                                  shuffle= False)\n",
    "\n",
    "data_iter = iter(dataloader)\n",
    "inputs, targets = next(data_iter)\n",
    "\n",
    "print(f'Inputs: \\n {inputs}')\n",
    "print(f'\\nTargets: \\n {targets}')"
   ]
  },
  {
   "cell_type": "markdown",
   "metadata": {},
   "source": [
    "#### token embeddings\n",
    "- learned during training and stored as a lookup table (called `embedding matrix`)\n",
    "- first initialized with random values and then updated during the course of training.\n",
    "\n",
    "`vocab_size = V`\n",
    "\n",
    "`output_dim = d`\n",
    "\n",
    "`embedding matrix (E) shape: (V,d)`\n",
    "\n",
    "each token's embedding is a row in the embedding matrix, which is learned via backprop\n",
    "\n",
    "**embedding vector of token at index i in the vocab = E[i]**"
   ]
  },
  {
   "cell_type": "markdown",
   "metadata": {},
   "source": [
    "in GPT3,\n",
    "- vocab size, V = 50,257\n",
    "- hidden size, d = 12,288\n",
    "\n",
    "GPT3's token embedding matrix has shape `(50,257, 12,288)`"
   ]
  },
  {
   "cell_type": "code",
   "execution_count": 37,
   "metadata": {},
   "outputs": [],
   "source": [
    "# example\n",
    "import torch\n",
    "input_ids = torch.tensor([2,3,5,1])"
   ]
  },
  {
   "cell_type": "code",
   "execution_count": 38,
   "metadata": {},
   "outputs": [
    {
     "data": {
      "text/plain": [
       "Parameter containing:\n",
       "tensor([[ 1.9269,  1.4873, -0.4974],\n",
       "        [ 0.4396, -0.7581,  1.0783],\n",
       "        [ 0.8008,  1.6806,  0.3559],\n",
       "        [-0.6866,  0.6105,  1.3347],\n",
       "        [-0.2316,  0.0418, -0.2516],\n",
       "        [ 0.8599, -0.3097, -0.3957]], requires_grad=True)"
      ]
     },
     "execution_count": 38,
     "metadata": {},
     "output_type": "execute_result"
    }
   ],
   "source": [
    "import torch.nn as nn\n",
    "\n",
    "vocab_size = 6\n",
    "output_dim = 3 #d\n",
    "\n",
    "# initalize a embedding layer\n",
    "torch.manual_seed(42)\n",
    "embed_layer = nn.Embedding(vocab_size, output_dim)\n",
    "embed_layer.weight"
   ]
  },
  {
   "cell_type": "markdown",
   "metadata": {},
   "source": [
    "the above matrix is called embedding matrix.\n",
    "\n",
    "we are essentially converting a single token id into a `d` dim embedding vector"
   ]
  },
  {
   "cell_type": "code",
   "execution_count": 39,
   "metadata": {},
   "outputs": [
    {
     "data": {
      "text/plain": [
       "tensor([[-0.6866,  0.6105,  1.3347]], grad_fn=<EmbeddingBackward0>)"
      ]
     },
     "execution_count": 39,
     "metadata": {},
     "output_type": "execute_result"
    }
   ],
   "source": [
    "token_id = torch.tensor([3])\n",
    "embed_layer(token_id)"
   ]
  },
  {
   "cell_type": "code",
   "execution_count": 40,
   "metadata": {},
   "outputs": [
    {
     "data": {
      "text/plain": [
       "tensor([[ 0.8008,  1.6806,  0.3559],\n",
       "        [-0.6866,  0.6105,  1.3347],\n",
       "        [ 0.8599, -0.3097, -0.3957],\n",
       "        [ 0.4396, -0.7581,  1.0783]], grad_fn=<EmbeddingBackward0>)"
      ]
     },
     "execution_count": 40,
     "metadata": {},
     "output_type": "execute_result"
    }
   ],
   "source": [
    "embed_layer(input_ids)"
   ]
  },
  {
   "cell_type": "markdown",
   "metadata": {},
   "source": [
    "Shortcoming of these embeddings:\n",
    "\n",
    "1. same token id always gets mapped to the same vector representation, regardless of position of the token... no positional info\n",
    "\n",
    "2. also self attention mechanism is **position-agnostic** (means does not have a bulit in sense of word order, therfore need to add positional info to the llm)"
   ]
  },
  {
   "cell_type": "markdown",
   "metadata": {},
   "source": [
    "` input embedding = token embedding + positional embedding`\n",
    "\n",
    "Types of pos embeddings:\n",
    "1. Absolute embeddings (associated with absolute position of tokens)\n",
    "2. Relative embeddings (based on relative position between words)\n",
    "\n",
    "GPT uses absolute pos embeddings that are learned during the training process.\n",
    "Btw, the original transformer model uses fixed pos embedding (*sin and cos formulas in attention paper*)"
   ]
  },
  {
   "cell_type": "code",
   "execution_count": 41,
   "metadata": {},
   "outputs": [],
   "source": [
    "vocab_size = 50257\n",
    "output_dim = 256\n",
    "token_embedding_layer = nn.Embedding(vocab_size, output_dim)"
   ]
  },
  {
   "cell_type": "markdown",
   "metadata": {},
   "source": [
    "embed each token into a 256-dim vector"
   ]
  },
  {
   "cell_type": "code",
   "execution_count": 42,
   "metadata": {},
   "outputs": [
    {
     "name": "stdout",
     "output_type": "stream",
     "text": [
      "Token Ids: \n",
      " tensor([[   40,   367,  2885,  1464],\n",
      "        [ 1807,  3619,   402,   271],\n",
      "        [10899,  2138,   257,  7026],\n",
      "        [15632,   438,  2016,   257],\n",
      "        [  922,  5891,  1576,   438],\n",
      "        [  568,   340,   373,   645],\n",
      "        [ 1049,  5975,   284,   502],\n",
      "        [  284,  3285,   326,    11]])\n",
      "\n",
      "Inputs shape: \n",
      " torch.Size([8, 4])\n"
     ]
    }
   ],
   "source": [
    "max_length = 4\n",
    "dataloader = create_dataloders_v1(raw_text,\n",
    "                                  batch_size=8,\n",
    "                                  max_length=max_length,\n",
    "                                  stride=max_length,\n",
    "                                  shuffle = False)\n",
    "\n",
    "data_iter = iter(dataloader)\n",
    "inputs, targets = next(data_iter)\n",
    "\n",
    "print(f'Token Ids: \\n {inputs}')\n",
    "print(f'\\nInputs shape: \\n {inputs.shape}')"
   ]
  },
  {
   "cell_type": "code",
   "execution_count": 43,
   "metadata": {},
   "outputs": [
    {
     "data": {
      "text/plain": [
       "torch.Size([8, 4, 256])"
      ]
     },
     "execution_count": 43,
     "metadata": {},
     "output_type": "execute_result"
    }
   ],
   "source": [
    "# token id tensor into 256- dim vectors\n",
    "\n",
    "token_embeddings = token_embedding_layer(inputs)\n",
    "token_embeddings.shape"
   ]
  },
  {
   "cell_type": "markdown",
   "metadata": {},
   "source": [
    "each token id is embedded into a 256 dim vector"
   ]
  },
  {
   "cell_type": "code",
   "execution_count": 44,
   "metadata": {},
   "outputs": [
    {
     "name": "stdout",
     "output_type": "stream",
     "text": [
      "torch.Size([4, 256])\n"
     ]
    }
   ],
   "source": [
    "context_length = max_length\n",
    "pos_embedding_layer = nn.Embedding(context_length, output_dim)\n",
    "\n",
    "pos_embeddings = pos_embedding_layer(torch.arange(context_length))\n",
    "print(pos_embeddings.shape)\n",
    "# print(torch.arange(context_length))"
   ]
  },
  {
   "cell_type": "code",
   "execution_count": 45,
   "metadata": {},
   "outputs": [
    {
     "name": "stdout",
     "output_type": "stream",
     "text": [
      "torch.Size([8, 4, 256])\n"
     ]
    }
   ],
   "source": [
    "# adding pos_embedding with token_embedding\n",
    "input_embeddings = token_embeddings + pos_embeddings  # pytorch broadcasting\n",
    "print(input_embeddings.shape)"
   ]
  },
  {
   "cell_type": "markdown",
   "metadata": {},
   "source": [
    "now, these input embedding are used as a input for the main LLM layer"
   ]
  },
  {
   "cell_type": "code",
   "execution_count": 46,
   "metadata": {},
   "outputs": [
    {
     "name": "stdout",
     "output_type": "stream",
     "text": [
      "tensor([ 0.9929,  1.2730,  2.4816,  1.9018, -0.2419, -0.7344,  0.5485,  1.5067,\n",
      "         0.3438,  0.8416, -0.7493,  1.0583,  0.4397,  2.8448,  0.2130,  0.8816,\n",
      "        -0.9945,  0.5225,  1.9248, -0.3494,  0.3024,  0.2833, -1.4084, -3.7505,\n",
      "        -0.2906,  0.9283,  1.6473, -0.1605, -1.3451, -0.3987,  0.9034, -1.0795,\n",
      "        -1.0084, -1.0498, -2.1346, -0.0268,  0.2335, -0.0207,  2.0972, -0.8852,\n",
      "        -0.1610, -0.2733, -0.4106, -0.4049,  0.0169,  2.2849,  0.2598, -0.0543,\n",
      "         0.2507,  1.5164, -1.6967,  1.1468, -0.4177, -0.7693,  2.5589, -1.2432,\n",
      "         1.9047, -2.0460,  0.0995, -1.6635,  2.7984, -1.9892,  3.3584, -0.7105,\n",
      "         1.4785,  0.8413,  2.7438,  1.8956,  2.3536, -1.6692,  0.3801,  0.3022,\n",
      "        -1.3540,  0.4156,  1.6523, -1.1340,  0.5037,  4.1013, -0.6938, -1.7309,\n",
      "        -0.0319,  1.7173, -0.6433,  0.2980, -1.3871,  1.4076, -1.4270, -0.6555,\n",
      "         1.5952, -0.5639,  2.3687, -0.0330,  1.4746,  0.4829,  1.4725,  0.9785,\n",
      "        -1.6764,  1.7061, -0.2097,  0.6855, -1.2507, -1.4428,  0.9283, -2.9889,\n",
      "        -0.9164,  0.1953,  1.0711,  1.6340,  0.5068, -1.4704,  0.6529, -0.0055,\n",
      "        -1.3515, -0.0353,  1.4837,  1.5352, -2.5530,  1.6561,  1.2492, -0.9305,\n",
      "         1.3808,  1.8255, -1.7830,  0.1620,  1.4360,  1.3162, -0.5409,  0.1166,\n",
      "        -0.9668,  0.4383, -1.9561,  0.2060,  0.5266,  1.2989, -1.0843, -0.1639,\n",
      "        -1.8560, -1.2381,  0.4100, -0.6734,  1.8279, -0.5183,  0.1363, -2.8186,\n",
      "        -1.8809,  1.6363,  0.5473, -0.6457,  1.7746,  1.1243,  1.2219, -0.1636,\n",
      "        -1.3272, -1.7400, -0.4054,  3.0057, -0.0550, -0.1294, -1.2072, -0.2917,\n",
      "         1.6622, -1.2372,  0.9301,  0.6482, -0.3864,  0.0350, -0.1880, -0.7072,\n",
      "         0.8505, -2.0412, -0.1678, -0.9776, -2.3614,  2.8531,  1.0225,  0.9059,\n",
      "         1.2611,  1.8614, -0.4754, -0.0534, -0.6076, -0.4128, -2.9275,  0.7973,\n",
      "        -0.5939, -1.2887,  0.9032, -2.4631,  2.0755, -1.0744,  0.7974,  0.6705,\n",
      "        -0.9752,  0.1139,  0.1416,  1.5048, -0.3158,  1.4986, -0.2285,  0.9654,\n",
      "         0.6576,  2.1495, -0.8301,  0.5533,  0.5428,  0.0821, -0.6173, -1.2106,\n",
      "         1.0444,  1.5248, -0.4098, -0.7334, -0.7788, -0.4906,  0.2453, -0.2919,\n",
      "        -2.7136,  3.0018,  1.7464, -0.9828,  1.9844, -1.1363, -0.4394,  1.9462,\n",
      "         0.2475,  0.9197,  1.4841,  0.6768,  0.4688,  1.3923, -0.8556,  0.0431,\n",
      "         0.0572,  0.5087, -1.2556,  1.7616, -0.7346,  1.0815, -1.1797,  1.5883,\n",
      "        -2.8420, -1.7041, -0.0723, -0.4416,  2.3001, -0.3496,  1.8656, -1.6615,\n",
      "         0.1524, -0.8815, -1.0576,  0.0501, -0.7692, -3.1044, -1.0006, -1.4009],\n",
      "       grad_fn=<SliceBackward0>)\n"
     ]
    }
   ],
   "source": [
    "print(input_embeddings[0,0,:])"
   ]
  },
  {
   "cell_type": "markdown",
   "metadata": {},
   "source": [
    "**Input Embedding pipeline**\n",
    "\n",
    "input text -> tokens -> token ids -> token embedding + pos embedding -> input embedding"
   ]
  }
 ],
 "metadata": {
  "kernelspec": {
   "display_name": "Python 3",
   "language": "python",
   "name": "python3"
  },
  "language_info": {
   "codemirror_mode": {
    "name": "ipython",
    "version": 3
   },
   "file_extension": ".py",
   "mimetype": "text/x-python",
   "name": "python",
   "nbconvert_exporter": "python",
   "pygments_lexer": "ipython3",
   "version": "3.10.12"
  }
 },
 "nbformat": 4,
 "nbformat_minor": 2
}
